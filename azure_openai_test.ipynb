{
  "cells": [
    {
      "cell_type": "markdown",
      "source": [
        "## Basic test notebook\n",
        "\n",
        "Test that Azure ML is properly set up (subscription, storage, etc.) and Azure OPEN AI API connection using Langchain works"
      ],
      "metadata": {
        "nteract": {
          "transient": {
            "deleting": false
          }
        }
      }
    },
    {
      "cell_type": "code",
      "source": [
        "import getpass\n",
        "import os\n",
        "from dotenv import load_dotenv\n",
        "# load_dotenv(\".env\")\n",
        "\n"
      ],
      "outputs": [],
      "execution_count": 1,
      "metadata": {
        "gather": {
          "logged": 1734622465389
        }
      }
    },
    {
      "cell_type": "code",
      "source": [
        "# # load .env file to environment\n",
        "load_dotenv()\n",
        "\n",
        "API = os.getenv('AZURE_OPENAI_API_KEY')\n",
        "print(API)"
      ],
      "outputs": [
        {
          "output_type": "stream",
          "name": "stdout",
          "text": "bd2e9f9cac9f4d868560c4d528fffc59\n"
        }
      ],
      "execution_count": 2,
      "metadata": {
        "jupyter": {
          "source_hidden": false,
          "outputs_hidden": false
        },
        "nteract": {
          "transient": {
            "deleting": false
          }
        },
        "gather": {
          "logged": 1734622465576
        }
      }
    },
    {
      "cell_type": "code",
      "source": [
        "print(os.environ[\"AZURE_OPENAI_API_KEY\"])\n",
        "print(os.environ[\"AZURE_OPENAI_ENDPOINT\"])\n",
        "print(os.environ[\"OPENAI_API_VERSION\"])"
      ],
      "outputs": [
        {
          "output_type": "stream",
          "name": "stdout",
          "text": "bd2e9f9cac9f4d868560c4d528fffc59\nhttps://ri-feedback-analysis.openai.azure.com/openai/deployments/gpt-4o-mini/chat/completions?api-version=2024-08-01-preview\n2024-08-01-preview\n"
        }
      ],
      "execution_count": 3,
      "metadata": {
        "jupyter": {
          "source_hidden": false,
          "outputs_hidden": false
        },
        "nteract": {
          "transient": {
            "deleting": false
          }
        },
        "gather": {
          "logged": 1734622465840
        }
      }
    },
    {
      "cell_type": "code",
      "source": [
        "for key, value in os.environ.items():\n",
        "    if 'AZURE' in key:\n",
        "       print(f\"{key}: {value}\")"
      ],
      "outputs": [
        {
          "output_type": "stream",
          "name": "stdout",
          "text": "AZURE_LOCATION: northeurope\nAZURE_SUBSCRIPTION_ID: b20a85b7-4db3-4091-b87a-7bb82484e3eb\nAZURE_RESOURCE_GROUP: ri-ai\nAZURE_ML_WORKSPACE: ri-feedback-ml\nAZURE_STORAGE_CONNECTION_STRING: DefaultEndpointsProtocol=https;EndpointSuffix=core.windows.net;AccountName=rifeedbackml7534979049;AccountKey=F3QkZr5mbjiitdgfU4npaINOYLl2QE3Uo/9A2BfKp4KEaNXjfxPYJzyyeN0t8tigV6mL/s3idi3/+AStRy93Lw==;BlobEndpoint=https://rifeedbackml7534979049.blob.core.windows.net/;FileEndpoint=https://rifeedbackml7534979049.file.core.windows.net/;QueueEndpoint=https://rifeedbackml7534979049.queue.core.windows.net/;TableEndpoint=https://rifeedbackml7534979049.table.core.windows.net/\nAZURE_OPENAI_API_KEY: bd2e9f9cac9f4d868560c4d528fffc59\nAZURE_OPENAI_ENDPOINT: https://ri-feedback-analysis.openai.azure.com/openai/deployments/gpt-4o-mini/chat/completions?api-version=2024-08-01-preview\nAZURE_OPENAI_DEPLOYMENT: gpt-4o-mini\n"
        }
      ],
      "execution_count": 4,
      "metadata": {
        "jupyter": {
          "source_hidden": false,
          "outputs_hidden": false
        },
        "nteract": {
          "transient": {
            "deleting": false
          }
        },
        "gather": {
          "logged": 1734622466049
        }
      }
    },
    {
      "cell_type": "code",
      "source": [
        "from langchain_openai import AzureChatOpenAI\n",
        "\n",
        "llm = AzureChatOpenAI(\n",
        "    # azure_deployment=\"gpt-4o-mini\",  # or your deployment\n",
        "    # api_version=\"2024-07-18\",  # or your api version\n",
        "    temperature=0,\n",
        "    max_tokens=None,\n",
        "    timeout=None,\n",
        "    max_retries=2,\n",
        "    # azure_endpoint=\"https://ri-feedback-analysis.openai.azure.com/openai/deployments/gpt-4o-mini/chat/completions?api-version=2024-08-01-preview\",\n",
        "    # openai_api_version=\"2024-08-01-preview\",\n",
        "    # deployment_name=\"gpt-4o-mini\",  # Note the letter 'o' not zero '0'\n",
        "    # openai_api_key=\"bd2e9f9cac9f4d868560c4d528fffc59\"\n",
        "    # other params...\n",
        ")"
      ],
      "outputs": [],
      "execution_count": 6,
      "metadata": {
        "jupyter": {
          "source_hidden": false,
          "outputs_hidden": false
        },
        "nteract": {
          "transient": {
            "deleting": false
          }
        },
        "gather": {
          "logged": 1734622483239
        }
      }
    },
    {
      "cell_type": "code",
      "source": [
        "print(llm)"
      ],
      "outputs": [
        {
          "output_type": "stream",
          "name": "stdout",
          "text": "client=<openai.resources.chat.completions.Completions object at 0x7ff12dacd1c0> async_client=<openai.resources.chat.completions.AsyncCompletions object at 0x7ff12dada340> root_client=<openai.lib.azure.AzureOpenAI object at 0x7ff12dd5dcd0> root_async_client=<openai.lib.azure.AsyncAzureOpenAI object at 0x7ff12dacd220> temperature=0.0 model_kwargs={} openai_api_key=SecretStr('**********') disabled_params={'parallel_tool_calls': None} azure_endpoint='https://ri-feedback-analysis.openai.azure.com/openai/deployments/gpt-4o-mini/chat/completions?api-version=2024-08-01-preview' openai_api_version='2024-08-01-preview' openai_api_type='azure'\n"
        }
      ],
      "execution_count": 7,
      "metadata": {
        "jupyter": {
          "source_hidden": false,
          "outputs_hidden": false
        },
        "nteract": {
          "transient": {
            "deleting": false
          }
        },
        "gather": {
          "logged": 1734622483459
        }
      }
    },
    {
      "cell_type": "code",
      "source": [
        "messages = [\n",
        "    (\n",
        "        \"system\",\n",
        "        \"You are a helpful assistant that translates English to Finnish. Translate the user sentence.\",\n",
        "    ),\n",
        "    (\"human\", \"I love programming.\"),\n",
        "]\n",
        "ai_msg = llm.invoke(messages)\n",
        "ai_msg"
      ],
      "outputs": [
        {
          "output_type": "execute_result",
          "execution_count": 8,
          "data": {
            "text/plain": "AIMessage(content='Rakastan ohjelmointia.', additional_kwargs={'refusal': None}, response_metadata={'token_usage': {'completion_tokens': 8, 'prompt_tokens': 31, 'total_tokens': 39, 'completion_tokens_details': None, 'prompt_tokens_details': None}, 'model_name': 'gpt-4o-mini-2024-07-18', 'system_fingerprint': 'fp_04751d0b65', 'prompt_filter_results': [{'prompt_index': 0, 'content_filter_results': {'hate': {'filtered': False, 'severity': 'safe'}, 'jailbreak': {'filtered': False, 'detected': False}, 'self_harm': {'filtered': False, 'severity': 'safe'}, 'sexual': {'filtered': False, 'severity': 'safe'}, 'violence': {'filtered': False, 'severity': 'safe'}}}], 'finish_reason': 'stop', 'logprobs': None, 'content_filter_results': {'hate': {'filtered': False, 'severity': 'safe'}, 'protected_material_code': {'filtered': False, 'detected': False}, 'protected_material_text': {'filtered': False, 'detected': False}, 'self_harm': {'filtered': False, 'severity': 'safe'}, 'sexual': {'filtered': False, 'severity': 'safe'}, 'violence': {'filtered': False, 'severity': 'safe'}}}, id='run-58db8a00-6b81-41a8-b86e-d8cd40cdc660-0', usage_metadata={'input_tokens': 31, 'output_tokens': 8, 'total_tokens': 39, 'input_token_details': {}, 'output_token_details': {}})"
          },
          "metadata": {}
        }
      ],
      "execution_count": 8,
      "metadata": {
        "jupyter": {
          "source_hidden": false,
          "outputs_hidden": false
        },
        "nteract": {
          "transient": {
            "deleting": false
          }
        },
        "gather": {
          "logged": 1734622484233
        }
      }
    }
  ],
  "metadata": {
    "kernelspec": {
      "name": "semantic-analyzer",
      "language": "python",
      "display_name": "Python (semantic-analyzer)"
    },
    "language_info": {
      "name": "python",
      "version": "3.9.21",
      "mimetype": "text/x-python",
      "codemirror_mode": {
        "name": "ipython",
        "version": 3
      },
      "pygments_lexer": "ipython3",
      "nbconvert_exporter": "python",
      "file_extension": ".py"
    },
    "microsoft": {
      "ms_spell_check": {
        "ms_spell_check_language": "en"
      },
      "host": {
        "AzureML": {
          "notebookHasBeenCompleted": true
        }
      }
    },
    "kernel_info": {
      "name": "semantic-analyzer"
    },
    "nteract": {
      "version": "nteract-front-end@1.0.0"
    }
  },
  "nbformat": 4,
  "nbformat_minor": 2
}