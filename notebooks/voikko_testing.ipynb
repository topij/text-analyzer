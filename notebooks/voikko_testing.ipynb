{
  "cells": [
    {
      "cell_type": "code",
      "source": [
        "import libvoikko"
      ],
      "outputs": [],
      "execution_count": 1,
      "metadata": {
        "jupyter": {
          "source_hidden": false,
          "outputs_hidden": false
        },
        "nteract": {
          "transient": {
            "deleting": false
          }
        },
        "gather": {
          "logged": 1733727680875
        }
      }
    },
    {
      "cell_type": "code",
      "source": [
        "libvoikko.Voikko(\"fi\")"
      ],
      "outputs": [
        {
          "output_type": "execute_result",
          "execution_count": 2,
          "data": {
            "text/plain": "<libvoikko.Voikko at 0x7f9fa9504a60>"
          },
          "metadata": {}
        }
      ],
      "execution_count": 2,
      "metadata": {
        "jupyter": {
          "source_hidden": false,
          "outputs_hidden": false
        },
        "nteract": {
          "transient": {
            "deleting": false
          }
        },
        "gather": {
          "logged": 1733727681072
        }
      }
    },
    {
      "cell_type": "code",
      "source": [
        "# Try to initialize Voikko\n",
        "\n",
        "v = libvoikko.Voikko(\"fi\")\n",
        "# Test with a simple word\n",
        "result = v.analyze(\"koneoppimismallin\")\n",
        "print(f\"Voikko test result: {result}\")\n",
        "\n",
        "    # v.terminate()\n",
        "    "
      ],
      "outputs": [
        {
          "output_type": "stream",
          "name": "stdout",
          "text": "Voikko test result: [{'BASEFORM': 'koneoppimismalli', 'CLASS': 'nimisana', 'FSTOUTPUT': '[Ln][Xp]kone[X]kone[Sn][Ny][Bh][Bc][Lt][Xp]oppia[X]oppi[Tn4]mis[Bh][Bc][Ln][Xp]malli[X]mall[Sg][Ny]in', 'NUMBER': 'singular', 'SIJAMUOTO': 'omanto', 'STRUCTURE': '=pppp=ppppppp=pppppp', 'WORDBASES': '+kone(kone)+oppimis(oppia)+malli(malli)'}]\n"
        }
      ],
      "execution_count": 7,
      "metadata": {
        "jupyter": {
          "source_hidden": false,
          "outputs_hidden": false
        },
        "nteract": {
          "transient": {
            "deleting": false
          }
        },
        "gather": {
          "logged": 1733727728084
        }
      }
    },
    {
      "cell_type": "code",
      "source": [
        "dir(libvoikko)"
      ],
      "outputs": [
        {
          "output_type": "execute_result",
          "execution_count": 4,
          "data": {
            "text/plain": "['CDLL',\n 'Dictionary',\n 'GrammarError',\n 'MAX_ANALYSIS_COUNT',\n 'MAX_WORD_CHARS',\n 'POINTER',\n 'Sentence',\n 'Structure',\n 'SuggestionStrategy',\n 'Token',\n 'Voikko',\n 'VoikkoException',\n 'VoikkoLibrary',\n '__builtins__',\n '__cached__',\n '__doc__',\n '__file__',\n '__loader__',\n '__name__',\n '__package__',\n '__spec__',\n '_anyStringToPath',\n '_anyStringToUtf8',\n '_boolToInt',\n 'addressof',\n 'binary_str',\n 'byref',\n 'c_char',\n 'c_char_p',\n 'c_int',\n 'c_size_t',\n 'c_void_p',\n 'c_wchar',\n 'c_wchar_p',\n 'create_unicode_buffer',\n 'os',\n 'platform',\n 'pointer',\n 'repr_conv',\n 'sizeof',\n 'string_at',\n 'sys',\n 'unicode_literals',\n 'unicode_str']"
          },
          "metadata": {}
        }
      ],
      "execution_count": 4,
      "metadata": {
        "jupyter": {
          "source_hidden": false,
          "outputs_hidden": false
        },
        "nteract": {
          "transient": {
            "deleting": false
          }
        },
        "gather": {
          "logged": 1733727681615
        }
      }
    },
    {
      "cell_type": "code",
      "source": [
        "dir(Voikko)"
      ],
      "outputs": [
        {
          "output_type": "error",
          "ename": "NameError",
          "evalue": "name 'Voikko' is not defined",
          "traceback": [
            "\u001b[0;31m---------------------------------------------------------------------------\u001b[0m",
            "\u001b[0;31mNameError\u001b[0m                                 Traceback (most recent call last)",
            "Cell \u001b[0;32mIn[5], line 1\u001b[0m\n\u001b[0;32m----> 1\u001b[0m \u001b[38;5;28mdir\u001b[39m(\u001b[43mVoikko\u001b[49m)\n",
            "\u001b[0;31mNameError\u001b[0m: name 'Voikko' is not defined"
          ]
        }
      ],
      "execution_count": 5,
      "metadata": {
        "jupyter": {
          "source_hidden": false,
          "outputs_hidden": false
        },
        "nteract": {
          "transient": {
            "deleting": false
          }
        },
        "gather": {
          "logged": 1733727681810
        }
      }
    }
  ],
  "metadata": {
    "kernelspec": {
      "name": "semantic-analyzer",
      "language": "python",
      "display_name": "Python (semantic-analyzer)"
    },
    "language_info": {
      "name": "python",
      "version": "3.9.21",
      "mimetype": "text/x-python",
      "codemirror_mode": {
        "name": "ipython",
        "version": 3
      },
      "pygments_lexer": "ipython3",
      "nbconvert_exporter": "python",
      "file_extension": ".py"
    },
    "microsoft": {
      "ms_spell_check": {
        "ms_spell_check_language": "en"
      },
      "host": {
        "AzureML": {
          "notebookHasBeenCompleted": true
        }
      }
    },
    "kernel_info": {
      "name": "semantic-analyzer"
    },
    "nteract": {
      "version": "nteract-front-end@1.0.0"
    }
  },
  "nbformat": 4,
  "nbformat_minor": 2
}