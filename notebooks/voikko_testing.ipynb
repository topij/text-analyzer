{
  "cells": [
    {
      "cell_type": "code",
      "source": [
        "# import logging\n",
        "# import sys\n",
        "# from pathlib import Path\n",
        "# from FileUtils import FileUtils\n"
      ],
      "outputs": [],
      "execution_count": 1,
      "metadata": {
        "gather": {
          "logged": 1733676777682
        }
      }
    },
    {
      "cell_type": "code",
      "source": [
        "# # Add project root to Python path if needed\n",
        "# project_root = str(Path().resolve().parent)\n",
        "# if project_root not in sys.path:\n",
        "#     sys.path.append(project_root)"
      ],
      "outputs": [],
      "execution_count": 2,
      "metadata": {
        "jupyter": {
          "source_hidden": false,
          "outputs_hidden": false
        },
        "nteract": {
          "transient": {
            "deleting": false
          }
        },
        "gather": {
          "logged": 1733676781323
        }
      }
    },
    {
      "cell_type": "code",
      "source": [
        "# AZURE_STORAGE_CONNECTION_STRING=\"DefaultEndpointsProtocol=https;EndpointSuffix=core.windows.net;AccountName=rifeedbackml7534979049;AccountKey=F3QkZr5mbjiitdgfU4npaINOYLl2QE3Uo/9A2BfKp4KEaNXjfxPYJzyyeN0t8tigV6mL/s3idi3/+AStRy93Lw==;BlobEndpoint=https://rifeedbackml7534979049.blob.core.windows.net/;FileEndpoint=https://rifeedbackml7534979049.file.core.windows.net/;QueueEndpoint=https://rifeedbackml7534979049.queue.core.windows.net/;TableEndpoint=https://rifeedbackml7534979049.table.core.windows.net/\"\n",
        "\n",
        "# file_utils_local = FileUtils(storage_type=\"local\", connection_string=AZURE_STORAGE_CONNECTION_STRING)"
      ],
      "outputs": [
        {
          "output_type": "stream",
          "name": "stdout",
          "text": "2024-12-08 16:53:33,581 - FileUtils.core.file_utils - INFO - Project root: /mnt/batch/tasks/shared/LS_root/mounts/clusters/basic-cpu/code/Users/topi.jarvinen/semantic-text-analyzer\n2024-12-08 16:53:33,698 - FileUtils.core.file_utils - INFO - FileUtils initialized with local storage\n"
        }
      ],
      "execution_count": 4,
      "metadata": {
        "jupyter": {
          "source_hidden": false,
          "outputs_hidden": false
        },
        "nteract": {
          "transient": {
            "deleting": false
          }
        },
        "gather": {
          "logged": 1733676813778
        }
      }
    },
    {
      "cell_type": "code",
      "source": [
        "# import logging\n",
        "# import sys\n",
        "# from pathlib import Path\n",
        "\n",
        "# # Remove any existing handlers\n",
        "# logger = logging.getLogger()\n",
        "# for handler in logger.handlers:\n",
        "#     logger.removeHandler(handler)\n",
        "\n",
        "# # Create and configure a new handler\n",
        "# handler = logging.StreamHandler(sys.stdout)\n",
        "# handler.setLevel(logging.DEBUG)\n",
        "# formatter = logging.Formatter('%(asctime)s - %(name)s - %(levelname)s - %(message)s')\n",
        "# handler.setFormatter(formatter)\n",
        "\n",
        "# # Configure root logger\n",
        "# logger.setLevel(logging.DEBUG)\n",
        "# logger.addHandler(handler)\n",
        "\n",
        "# # Configure specific logger for setup helper\n",
        "# setup_logger = logging.getLogger(\"scripts.azure.setup_helpers\")\n",
        "# setup_logger.setLevel(logging.DEBUG)\n",
        "# setup_logger.addHandler(handler)\n",
        "\n",
        "# # Get project root (you already have this)\n",
        "# project_root = Path().resolve().parent\n",
        "\n",
        "# from scripts.azure.setup_helpers import setup_voikko\n",
        "\n",
        "# # Run setup with explicit project root\n",
        "# if setup_voikko(project_root=project_root):\n",
        "#     print(\"Voikko ready\")\n",
        "# else:\n",
        "#     print(\"Using fallback mode\")"
      ],
      "outputs": [
        {
          "output_type": "stream",
          "name": "stdout",
          "text": "2024-12-08 16:53:39,337 - scripts.azure.setup_helpers - ERROR - Setup script not found at /mnt/batch/tasks/shared/LS_root/mounts/clusters/basic-cpu/code/Users/topi.jarvinen/semantic-text-analyzer/scripts/azure/setup_voikko.sh\n2024-12-08 16:53:39,337 - scripts.azure.setup_helpers - ERROR - Setup script not found at /mnt/batch/tasks/shared/LS_root/mounts/clusters/basic-cpu/code/Users/topi.jarvinen/semantic-text-analyzer/scripts/azure/setup_voikko.sh\nUsing fallback mode\n"
        }
      ],
      "execution_count": 5,
      "metadata": {
        "jupyter": {
          "source_hidden": false,
          "outputs_hidden": false
        },
        "nteract": {
          "transient": {
            "deleting": false
          }
        },
        "gather": {
          "logged": 1733676819436
        }
      }
    },
    {
      "cell_type": "code",
      "source": [
        "import libvoikko"
      ],
      "outputs": [],
      "execution_count": 7,
      "metadata": {
        "jupyter": {
          "source_hidden": false,
          "outputs_hidden": false
        },
        "nteract": {
          "transient": {
            "deleting": false
          }
        },
        "gather": {
          "logged": 1733683333322
        }
      }
    },
    {
      "cell_type": "code",
      "source": [
        "dir(libvoikko)"
      ],
      "outputs": [
        {
          "output_type": "execute_result",
          "execution_count": 47,
          "data": {
            "text/plain": "['CDLL',\n 'Dictionary',\n 'GrammarError',\n 'MAX_ANALYSIS_COUNT',\n 'MAX_WORD_CHARS',\n 'POINTER',\n 'Sentence',\n 'Structure',\n 'SuggestionStrategy',\n 'Token',\n 'Voikko',\n 'VoikkoException',\n 'VoikkoLibrary',\n '__builtins__',\n '__cached__',\n '__doc__',\n '__file__',\n '__loader__',\n '__name__',\n '__package__',\n '__spec__',\n '_anyStringToPath',\n '_anyStringToUtf8',\n '_boolToInt',\n 'addressof',\n 'binary_str',\n 'byref',\n 'c_char',\n 'c_char_p',\n 'c_int',\n 'c_size_t',\n 'c_void_p',\n 'c_wchar',\n 'c_wchar_p',\n 'create_unicode_buffer',\n 'os',\n 'platform',\n 'pointer',\n 'repr_conv',\n 'sizeof',\n 'string_at',\n 'sys',\n 'unicode_literals',\n 'unicode_str']"
          },
          "metadata": {}
        }
      ],
      "execution_count": 47,
      "metadata": {
        "jupyter": {
          "source_hidden": false,
          "outputs_hidden": false
        },
        "nteract": {
          "transient": {
            "deleting": false
          }
        },
        "gather": {
          "logged": 1733687283490
        }
      }
    },
    {
      "cell_type": "code",
      "source": [
        "from libvoikko import Voikko"
      ],
      "outputs": [],
      "execution_count": 46,
      "metadata": {
        "jupyter": {
          "source_hidden": false,
          "outputs_hidden": false
        },
        "nteract": {
          "transient": {
            "deleting": false
          }
        },
        "gather": {
          "logged": 1733687261003
        }
      }
    },
    {
      "cell_type": "code",
      "source": [
        "import libvoikko"
      ],
      "outputs": [],
      "execution_count": 48,
      "metadata": {
        "jupyter": {
          "source_hidden": false,
          "outputs_hidden": false
        },
        "nteract": {
          "transient": {
            "deleting": false
          }
        },
        "gather": {
          "logged": 1733687897074
        }
      }
    },
    {
      "cell_type": "code",
      "source": [
        "libvoikko.Voikko(\"fi\")"
      ],
      "outputs": [
        {
          "output_type": "execute_result",
          "execution_count": 49,
          "data": {
            "text/plain": "<libvoikko.Voikko at 0x7fae1ba0e100>"
          },
          "metadata": {}
        }
      ],
      "execution_count": 49,
      "metadata": {
        "jupyter": {
          "source_hidden": false,
          "outputs_hidden": false
        },
        "nteract": {
          "transient": {
            "deleting": false
          }
        },
        "gather": {
          "logged": 1733687900761
        }
      }
    },
    {
      "cell_type": "code",
      "source": [
        "# Try to initialize Voikko\n",
        "\n",
        "v = libvoikko.Voikko(\"fi\")\n",
        "# Test with a simple word\n",
        "result = v.analyze(\"kissa\")\n",
        "print(f\"Voikko test result: {result}\")\n",
        "\n",
        "    # v.terminate()\n",
        "    "
      ],
      "outputs": [
        {
          "output_type": "stream",
          "name": "stdout",
          "text": "Voikko test result: [{'BASEFORM': 'kissa', 'CLASS': 'nimisana', 'FSTOUTPUT': '[Ln][Xp]kissa[X]kiss[Sn][Ny]a', 'NUMBER': 'singular', 'SIJAMUOTO': 'nimento', 'STRUCTURE': '=ppppp', 'WORDBASES': '+kissa(kissa)'}]\n"
        }
      ],
      "execution_count": 50,
      "metadata": {
        "jupyter": {
          "source_hidden": false,
          "outputs_hidden": false
        },
        "nteract": {
          "transient": {
            "deleting": false
          }
        },
        "gather": {
          "logged": 1733687906087
        }
      }
    },
    {
      "cell_type": "code",
      "source": [
        "import os\n",
        "import logging\n",
        "from pathlib import Path\n",
        "import libvoikko"
      ],
      "outputs": [],
      "execution_count": 2,
      "metadata": {
        "jupyter": {
          "source_hidden": false,
          "outputs_hidden": false
        },
        "nteract": {
          "transient": {
            "deleting": false
          }
        },
        "gather": {
          "logged": 1733683415113
        }
      }
    },
    {
      "cell_type": "code",
      "source": [
        "# Configure logging\n",
        "logger = logging.getLogger()\n",
        "logger.setLevel(logging.DEBUG)"
      ],
      "outputs": [],
      "execution_count": 3,
      "metadata": {
        "jupyter": {
          "source_hidden": false,
          "outputs_hidden": false
        },
        "nteract": {
          "transient": {
            "deleting": false
          }
        },
        "gather": {
          "logged": 1733683422920
        }
      }
    },
    {
      "cell_type": "code",
      "source": [
        "def configure_voikko():\n",
        "    \"\"\"Configure Voikko paths in Azure environment.\"\"\"\n",
        "    try:\n",
        "        conda_prefix = os.environ.get('CONDA_PREFIX')\n",
        "        if not conda_prefix:\n",
        "            print(\"No CONDA_PREFIX found\")\n",
        "            return False\n",
        "\n",
        "        # Set up library path\n",
        "        lib_path = Path(conda_prefix) / 'lib'\n",
        "        if lib_path.exists():\n",
        "            if 'LD_LIBRARY_PATH' in os.environ:\n",
        "                os.environ['LD_LIBRARY_PATH'] = f\"{lib_path}:{os.environ['LD_LIBRARY_PATH']}\"\n",
        "            else:\n",
        "                os.environ['LD_LIBRARY_PATH'] = str(lib_path)\n",
        "            print(f\"Set LD_LIBRARY_PATH to include {lib_path}\")\n",
        "\n",
        "        # Set up dictionary path\n",
        "        dict_path = Path(conda_prefix) / 'share' / 'voikko'\n",
        "        if dict_path.exists():\n",
        "            os.environ['VOIKKO_DICTIONARY_PATH'] = str(dict_path)\n",
        "            print(f\"Set VOIKKO_DICTIONARY_PATH to {dict_path}\")\n",
        "        else:\n",
        "            print(f\"Dictionary path not found at {dict_path}\")\n",
        "\n",
        "        # Check for library file\n",
        "        lib_file = lib_path / 'libvoikko.so.1'\n",
        "        if not lib_file.exists():\n",
        "            lib_file_alt = lib_path / 'libvoikko.so'\n",
        "            if lib_file_alt.exists():\n",
        "                # Create symbolic link\n",
        "                try:\n",
        "                    lib_file.symlink_to(lib_file_alt)\n",
        "                    print(f\"Created symbolic link from {lib_file_alt} to {lib_file}\")\n",
        "                except Exception as e:\n",
        "                    print(f\"Could not create symbolic link: {e}\")\n",
        "\n",
        "        # Try to initialize Voikko\n",
        "        try:\n",
        "            v = libvoikko.Voikko(\"fi\")\n",
        "            # Test with a simple word\n",
        "            result = v.analyze(\"kissa\")\n",
        "            print(f\"Voikko test result: {result}\")\n",
        "            v.terminate()\n",
        "            return True\n",
        "        except Exception as e:\n",
        "            print(f\"Failed to initialize Voikko: {e}\")\n",
        "            return False\n",
        "\n",
        "    except Exception as e:\n",
        "        print(f\"Error configuring Voikko: {e}\")\n",
        "        return False"
      ],
      "outputs": [],
      "execution_count": 40,
      "metadata": {
        "jupyter": {
          "source_hidden": false,
          "outputs_hidden": false
        },
        "nteract": {
          "transient": {
            "deleting": false
          }
        },
        "gather": {
          "logged": 1733686824460
        }
      }
    },
    {
      "cell_type": "code",
      "source": [
        "import os\n",
        "import logging\n",
        "from pathlib import Path\n",
        "import libvoikko\n",
        "\n",
        "# Configure logging\n",
        "logger = logging.getLogger()\n",
        "logger.setLevel(logging.DEBUG)\n",
        "\n",
        "def configure_voikko():\n",
        "    \"\"\"Configure Voikko paths in Azure environment.\"\"\"\n",
        "    try:\n",
        "        conda_prefix = os.environ.get('CONDA_PREFIX')\n",
        "        if not conda_prefix:\n",
        "            print(\"No CONDA_PREFIX found\")\n",
        "            return False\n",
        "\n",
        "        # Set up library path\n",
        "        lib_path = Path(conda_prefix) / 'lib'\n",
        "        if lib_path.exists():\n",
        "            if 'LD_LIBRARY_PATH' in os.environ:\n",
        "                os.environ['LD_LIBRARY_PATH'] = f\"{lib_path}:{os.environ['LD_LIBRARY_PATH']}\"\n",
        "            else:\n",
        "                os.environ['LD_LIBRARY_PATH'] = str(lib_path)\n",
        "            print(f\"Set LD_LIBRARY_PATH to include {lib_path}\")\n",
        "\n",
        "        # Set up dictionary path\n",
        "        dict_path = Path(conda_prefix) / 'share' / 'voikko'\n",
        "        if dict_path.exists():\n",
        "            os.environ['VOIKKO_DICTIONARY_PATH'] = str(dict_path)\n",
        "            print(f\"Set VOIKKO_DICTIONARY_PATH to {dict_path}\")\n",
        "        else:\n",
        "            print(f\"Dictionary path not found at {dict_path}\")\n",
        "\n",
        "        # Check for library file\n",
        "        lib_file = lib_path / 'libvoikko.so.1'\n",
        "        if not lib_file.exists():\n",
        "            lib_file_alt = lib_path / 'libvoikko.so'\n",
        "            if lib_file_alt.exists():\n",
        "                # Create symbolic link\n",
        "                try:\n",
        "                    lib_file.symlink_to(lib_file_alt)\n",
        "                    print(f\"Created symbolic link from {lib_file_alt} to {lib_file}\")\n",
        "                except Exception as e:\n",
        "                    print(f\"Could not create symbolic link: {e}\")\n",
        "\n",
        "        # Try to initialize Voikko\n",
        "        try:\n",
        "            v = libvoikko.Voikko(\"fi\")\n",
        "            # Test with a simple word\n",
        "            result = v.analyze(\"kissa\")\n",
        "            print(f\"Voikko test result: {result}\")\n",
        "            v.terminate()\n",
        "            return True\n",
        "        except Exception as e:\n",
        "            print(f\"Failed to initialize Voikko: {e}\")\n",
        "            return False\n",
        "\n",
        "    except Exception as e:\n",
        "        print(f\"Error configuring Voikko: {e}\")\n",
        "        return False\n",
        "\n",
        "# Try to configure Voikko\n",
        "if configure_voikko():\n",
        "    print(\"Voikko configured successfully\")\n",
        "else:\n",
        "    print(\"Using fallback mode\")"
      ],
      "outputs": [
        {
          "output_type": "stream",
          "name": "stdout",
          "text": "No CONDA_PREFIX found\nUsing fallback mode\n"
        }
      ],
      "execution_count": 41,
      "metadata": {
        "jupyter": {
          "source_hidden": false,
          "outputs_hidden": false
        },
        "nteract": {
          "transient": {
            "deleting": false
          }
        },
        "gather": {
          "logged": 1733686830803
        }
      }
    },
    {
      "cell_type": "code",
      "source": [
        "# Try to configure Voikko\n",
        "if configure_voikko():\n",
        "    print(\"Voikko configured successfully\")\n",
        "else:\n",
        "    print(\"Using fallback mode\")"
      ],
      "outputs": [
        {
          "output_type": "stream",
          "name": "stdout",
          "text": "No CONDA_PREFIX found\nUsing fallback mode\n"
        }
      ],
      "execution_count": 7,
      "metadata": {
        "jupyter": {
          "source_hidden": false,
          "outputs_hidden": false
        },
        "nteract": {
          "transient": {
            "deleting": false
          }
        },
        "gather": {
          "logged": 1733683508522
        }
      }
    },
    {
      "cell_type": "code",
      "source": [
        "import os\n",
        "import sys\n",
        "import logging\n",
        "from pathlib import Path\n",
        "\n",
        "# Setup logging\n",
        "logger = logging.getLogger()\n",
        "logger.setLevel(logging.DEBUG)\n",
        "\n",
        "# Print environment information\n",
        "print(\"Environment Information:\")\n",
        "print(f\"Python executable: {sys.executable}\")\n",
        "print(f\"Python version: {sys.version}\")\n",
        "print(\"\\nRelevant Environment Variables:\")\n",
        "for var in ['CONDA_PREFIX', 'CONDA_DEFAULT_ENV', 'CONDA_EXE', 'PATH', 'LD_LIBRARY_PATH']:\n",
        "    print(f\"{var}: {os.environ.get(var, 'Not set')}\")\n",
        "\n",
        "# Try to find conda-related paths\n",
        "python_path = Path(sys.executable)\n",
        "possible_conda_prefix = python_path.parent.parent\n",
        "print(f\"\\nPossible conda prefix from Python path: {possible_conda_prefix}\")\n",
        "\n",
        "# Check if this looks like a conda environment\n",
        "has_conda_meta = (possible_conda_prefix / \"conda-meta\").exists()\n",
        "has_lib = (possible_conda_prefix / \"lib\").exists()\n",
        "print(f\"Has conda-meta directory: {has_conda_meta}\")\n",
        "print(f\"Has lib directory: {has_lib}\")\n",
        "\n",
        "# Check for Voikko files\n",
        "lib_dir = possible_conda_prefix / \"lib\"\n",
        "voikko_files = list(lib_dir.glob(\"*voikko*\")) if lib_dir.exists() else []\n",
        "print(\"\\nFound Voikko files:\")\n",
        "for f in voikko_files:\n",
        "    print(f\"  {f}\")"
      ],
      "outputs": [
        {
          "output_type": "stream",
          "name": "stdout",
          "text": "Environment Information:\nPython executable: /anaconda/envs/semantic-analyzer/bin/python\nPython version: 3.9.21 | packaged by conda-forge | (main, Dec  5 2024, 13:51:40) \n[GCC 13.3.0]\n\nRelevant Environment Variables:\nCONDA_PREFIX: Not set\nCONDA_DEFAULT_ENV: Not set\nCONDA_EXE: Not set\nPATH: /anaconda/envs/azureml_py38/bin/:/usr/local/sbin:/usr/local/bin:/usr/sbin:/usr/bin:/sbin:/bin:/usr/games:/usr/local/games:/snap/bin\nLD_LIBRARY_PATH: Not set\n\nPossible conda prefix from Python path: /anaconda/envs/semantic-analyzer\nHas conda-meta directory: True\nHas lib directory: True\n\nFound Voikko files:\n"
        }
      ],
      "execution_count": 8,
      "metadata": {
        "jupyter": {
          "source_hidden": false,
          "outputs_hidden": false
        },
        "nteract": {
          "transient": {
            "deleting": false
          }
        },
        "gather": {
          "logged": 1733683626379
        }
      }
    },
    {
      "cell_type": "code",
      "source": [
        "import os\n",
        "import logging\n",
        "from pathlib import Path\n",
        "import libvoikko\n",
        "\n",
        "# Configure logging\n",
        "logger = logging.getLogger()\n",
        "logger.setLevel(logging.DEBUG)\n",
        "\n",
        "def configure_voikko_azure():\n",
        "    \"\"\"Configure Voikko in Azure ML environment.\"\"\"\n",
        "    try:\n",
        "        # Use the actual conda environment path we found\n",
        "        conda_env_path = Path(\"/anaconda/envs/semantic-analyzer\")\n",
        "        print(f\"Using conda environment path: {conda_env_path}\")\n",
        "\n",
        "        # Set up library path\n",
        "        lib_path = conda_env_path / 'lib'\n",
        "        if lib_path.exists():\n",
        "            if 'LD_LIBRARY_PATH' in os.environ:\n",
        "                os.environ['LD_LIBRARY_PATH'] = f\"{lib_path}:{os.environ['LD_LIBRARY_PATH']}\"\n",
        "            else:\n",
        "                os.environ['LD_LIBRARY_PATH'] = str(lib_path)\n",
        "            print(f\"Set LD_LIBRARY_PATH to include {lib_path}\")\n",
        "\n",
        "        # Set up dictionary path and check for dictionaries\n",
        "        dict_paths = [\n",
        "            conda_env_path / 'share' / 'voikko',\n",
        "            conda_env_path / 'lib' / 'voikko',\n",
        "            Path('/usr/share/voikko'),\n",
        "            Path('/usr/lib/voikko')\n",
        "        ]\n",
        "\n",
        "        for dict_path in dict_paths:\n",
        "            if dict_path.exists():\n",
        "                os.environ['VOIKKO_DICTIONARY_PATH'] = str(dict_path)\n",
        "                print(f\"Found and set VOIKKO_DICTIONARY_PATH to {dict_path}\")\n",
        "                break\n",
        "        else:\n",
        "            logger.warning(\"No dictionary path found\")\n",
        "\n",
        "        # Try to initialize Voikko with explicit path\n",
        "        try:\n",
        "            v = libvoikko.Voikko(\"fi\", str(lib_path))\n",
        "            # Test with a simple word\n",
        "            result = v.analyze(\"kissa\")\n",
        "            print(f\"Voikko test result: {result}\")\n",
        "            v.terminate()\n",
        "            logger.info(\"Voikko initialized successfully\")\n",
        "            return True\n",
        "        except Exception as e:\n",
        "            print(f\"Failed to initialize Voikko: {e}\")\n",
        "            # Try without explicit path\n",
        "            try:\n",
        "                v = libvoikko.Voikko(\"fi\")\n",
        "                result = v.analyze(\"kissa\")\n",
        "                print(f\"Voikko test result (without explicit path): {result}\")\n",
        "                v.terminate()\n",
        "                logger.info(\"Voikko initialized successfully without explicit path\")\n",
        "                return True\n",
        "            except Exception as e2:\n",
        "                print(f\"Failed to initialize Voikko without explicit path: {e2}\")\n",
        "                return False\n",
        "\n",
        "    except Exception as e:\n",
        "        print(f\"Error configuring Voikko: {e}\")\n",
        "        return False\n",
        "\n",
        "# Try to configure Voikko\n",
        "if configure_voikko_azure():\n",
        "    print(\"Voikko configured successfully\")\n",
        "else:\n",
        "    print(\"Using fallback mode\")"
      ],
      "outputs": [
        {
          "output_type": "stream",
          "name": "stdout",
          "text": "Using conda environment path: /anaconda/envs/semantic-analyzer\nSet LD_LIBRARY_PATH to include /anaconda/envs/semantic-analyzer/lib\nFailed to initialize Voikko: libvoikko.so.1: cannot open shared object file: No such file or directory\nFailed to initialize Voikko without explicit path: libvoikko.so.1: cannot open shared object file: No such file or directory\nUsing fallback mode\n"
        }
      ],
      "execution_count": 12,
      "metadata": {
        "jupyter": {
          "source_hidden": false,
          "outputs_hidden": false
        },
        "nteract": {
          "transient": {
            "deleting": false
          }
        },
        "gather": {
          "logged": 1733683819593
        }
      }
    },
    {
      "cell_type": "code",
      "source": [
        "from libvoikko import Voikko"
      ],
      "outputs": [],
      "execution_count": 14,
      "metadata": {
        "jupyter": {
          "source_hidden": false,
          "outputs_hidden": false
        },
        "nteract": {
          "transient": {
            "deleting": false
          }
        },
        "gather": {
          "logged": 1733683908100
        }
      }
    },
    {
      "cell_type": "code",
      "source": [
        "Voikko.voikkoInit()"
      ],
      "outputs": [
        {
          "output_type": "error",
          "ename": "AttributeError",
          "evalue": "type object 'Voikko' has no attribute 'voikkoInit'",
          "traceback": [
            "\u001b[0;31m---------------------------------------------------------------------------\u001b[0m",
            "\u001b[0;31mAttributeError\u001b[0m                            Traceback (most recent call last)",
            "Cell \u001b[0;32mIn[19], line 1\u001b[0m\n\u001b[0;32m----> 1\u001b[0m \u001b[43mVoikko\u001b[49m\u001b[38;5;241;43m.\u001b[39;49m\u001b[43mvoikkoInit\u001b[49m()\n",
            "\u001b[0;31mAttributeError\u001b[0m: type object 'Voikko' has no attribute 'voikkoInit'"
          ]
        }
      ],
      "execution_count": 19,
      "metadata": {
        "jupyter": {
          "source_hidden": false,
          "outputs_hidden": false
        },
        "nteract": {
          "transient": {
            "deleting": false
          }
        },
        "gather": {
          "logged": 1733684605167
        }
      }
    },
    {
      "cell_type": "code",
      "source": [
        "import libvoikko"
      ],
      "outputs": [],
      "execution_count": 20,
      "metadata": {
        "jupyter": {
          "source_hidden": false,
          "outputs_hidden": false
        },
        "nteract": {
          "transient": {
            "deleting": false
          }
        },
        "gather": {
          "logged": 1733684714550
        }
      }
    },
    {
      "cell_type": "code",
      "source": [
        "dir(libvoikko)"
      ],
      "outputs": [
        {
          "output_type": "execute_result",
          "execution_count": 26,
          "data": {
            "text/plain": "['CDLL',\n 'Dictionary',\n 'GrammarError',\n 'MAX_ANALYSIS_COUNT',\n 'MAX_WORD_CHARS',\n 'POINTER',\n 'Sentence',\n 'Structure',\n 'SuggestionStrategy',\n 'Token',\n 'Voikko',\n 'VoikkoException',\n 'VoikkoLibrary',\n '__builtins__',\n '__cached__',\n '__doc__',\n '__file__',\n '__loader__',\n '__name__',\n '__package__',\n '__spec__',\n '_anyStringToPath',\n '_anyStringToUtf8',\n '_boolToInt',\n 'addressof',\n 'binary_str',\n 'byref',\n 'c_char',\n 'c_char_p',\n 'c_int',\n 'c_size_t',\n 'c_void_p',\n 'c_wchar',\n 'c_wchar_p',\n 'create_unicode_buffer',\n 'os',\n 'platform',\n 'pointer',\n 'repr_conv',\n 'sizeof',\n 'string_at',\n 'sys',\n 'unicode_literals',\n 'unicode_str']"
          },
          "metadata": {}
        }
      ],
      "execution_count": 26,
      "metadata": {
        "jupyter": {
          "source_hidden": false,
          "outputs_hidden": false
        },
        "nteract": {
          "transient": {
            "deleting": false
          }
        },
        "gather": {
          "logged": 1733684854887
        }
      }
    },
    {
      "cell_type": "code",
      "source": [
        "dir(libvoikko)"
      ],
      "outputs": [
        {
          "output_type": "execute_result",
          "execution_count": 21,
          "data": {
            "text/plain": "['CDLL',\n 'Dictionary',\n 'GrammarError',\n 'MAX_ANALYSIS_COUNT',\n 'MAX_WORD_CHARS',\n 'POINTER',\n 'Sentence',\n 'Structure',\n 'SuggestionStrategy',\n 'Token',\n 'Voikko',\n 'VoikkoException',\n 'VoikkoLibrary',\n '__builtins__',\n '__cached__',\n '__doc__',\n '__file__',\n '__loader__',\n '__name__',\n '__package__',\n '__spec__',\n '_anyStringToPath',\n '_anyStringToUtf8',\n '_boolToInt',\n 'addressof',\n 'binary_str',\n 'byref',\n 'c_char',\n 'c_char_p',\n 'c_int',\n 'c_size_t',\n 'c_void_p',\n 'c_wchar',\n 'c_wchar_p',\n 'create_unicode_buffer',\n 'os',\n 'platform',\n 'pointer',\n 'repr_conv',\n 'sizeof',\n 'string_at',\n 'sys',\n 'unicode_literals',\n 'unicode_str']"
          },
          "metadata": {}
        }
      ],
      "execution_count": 21,
      "metadata": {
        "jupyter": {
          "source_hidden": false,
          "outputs_hidden": false
        },
        "nteract": {
          "transient": {
            "deleting": false
          }
        },
        "gather": {
          "logged": 1733684733544
        }
      }
    },
    {
      "cell_type": "code",
      "source": [
        "dir(Voikko)"
      ],
      "outputs": [
        {
          "output_type": "execute_result",
          "execution_count": 16,
          "data": {
            "text/plain": "['_Voikko__getGrammarError',\n '_Voikko__getLib',\n '_Voikko__grammarParagraph',\n '_Voikko__isValidInput',\n '_Voikko__listSupportedLanguagesForOperation',\n '_Voikko__splitTokens',\n '__class__',\n '__del__',\n '__delattr__',\n '__dict__',\n '__dir__',\n '__doc__',\n '__eq__',\n '__format__',\n '__ge__',\n '__getattribute__',\n '__gt__',\n '__hash__',\n '__init__',\n '__init_subclass__',\n '__le__',\n '__lt__',\n '__module__',\n '__ne__',\n '__new__',\n '__reduce__',\n '__reduce_ex__',\n '__repr__',\n '__setattr__',\n '__sizeof__',\n '__str__',\n '__subclasshook__',\n '__weakref__',\n '_sharedLibrarySearchPath',\n 'analyze',\n 'attributeValues',\n 'getHyphenationPattern',\n 'getVersion',\n 'grammarErrors',\n 'hyphenate',\n 'listDicts',\n 'listSupportedGrammarCheckingLanguages',\n 'listSupportedHyphenationLanguages',\n 'listSupportedSpellingLanguages',\n 'sentences',\n 'setAcceptAllUppercase',\n 'setAcceptBulletedListsInGc',\n 'setAcceptExtraHyphens',\n 'setAcceptFirstUppercase',\n 'setAcceptMissingHyphens',\n 'setAcceptTitlesInGc',\n 'setAcceptUnfinishedParagraphsInGc',\n 'setBooleanOption',\n 'setHyphenateUnknownWords',\n 'setIgnoreDot',\n 'setIgnoreNonwords',\n 'setIgnoreNumbers',\n 'setIgnoreUppercase',\n 'setIntegerOption',\n 'setLibrarySearchPath',\n 'setMinHyphenatedWordLength',\n 'setNoUglyHyphenation',\n 'setSpellerCacheSize',\n 'setSuggestionStrategy',\n 'spell',\n 'suggest',\n 'terminate',\n 'tokens']"
          },
          "metadata": {}
        }
      ],
      "execution_count": 16,
      "metadata": {
        "jupyter": {
          "source_hidden": false,
          "outputs_hidden": false
        },
        "nteract": {
          "transient": {
            "deleting": false
          }
        },
        "gather": {
          "logged": 1733683947181
        }
      }
    },
    {
      "cell_type": "code",
      "source": [
        "import logging\n",
        "from libvoikko import Voikko\n",
        "from pathlib import Path\n",
        "\n",
        "# Configure logging\n",
        "logger = logging.getLogger()\n",
        "logger.setLevel(logging.DEBUG)\n",
        "\n",
        "def try_voikko_initialization():\n",
        "    \"\"\"Try different approaches to initialize Voikko.\"\"\"\n",
        "    \n",
        "    conda_env_path = Path(\"/anaconda/envs/semantic-analyzer\")\n",
        "    possible_dict_paths = [\n",
        "        conda_env_path / 'share' / 'voikko',\n",
        "        conda_env_path / 'lib' / 'voikko',\n",
        "        Path('/usr/share/voikko'),\n",
        "        Path('/usr/lib/voikko')\n",
        "    ]\n",
        "\n",
        "    print(\"Checking dictionary paths:\")\n",
        "    for path in possible_dict_paths:\n",
        "        print(f\"Checking {path}\")\n",
        "        if path.exists():\n",
        "            print(f\"Found directory: {path}\")\n",
        "            # List contents\n",
        "            print(\"Contents:\")\n",
        "            for item in path.iterdir():\n",
        "                print(f\"  {item}\")\n",
        "\n",
        "    try:\n",
        "        # Try setting library search path first\n",
        "        Voikko.setLibrarySearchPath(str(conda_env_path / 'lib'))\n",
        "        \n",
        "        # Try different initialization approaches\n",
        "        approaches = [\n",
        "            (\"Default initialization\", lambda: Voikko(\"fi\")),\n",
        "            (\"With conda lib path\", lambda: Voikko(\"fi\", str(conda_env_path / 'lib'))),\n",
        "            (\"With share/voikko path\", lambda: Voikko(\"fi\", str(conda_env_path / 'share/voikko'))),\n",
        "            (\"With usr/share/voikko path\", lambda: Voikko(\"fi\", \"/usr/share/voikko\")),\n",
        "            (\"With usr/lib/voikko path\", lambda: Voikko(\"fi\", \"/usr/lib/voikko\")),\n",
        "        ]\n",
        "\n",
        "        for desc, init_func in approaches:\n",
        "            try:\n",
        "                print(f\"\\nTrying {desc}\")\n",
        "                v = init_func()\n",
        "                result = v.analyze(\"kissa\")\n",
        "                print(f\"Success! Analysis result: {result}\")\n",
        "                v.terminate()\n",
        "                return True, desc\n",
        "            except Exception as e:\n",
        "                print(f\"Failed: {str(e)}\")\n",
        "                continue\n",
        "\n",
        "        print(\"All initialization attempts failed\")\n",
        "        return False, \"All attempts failed\"\n",
        "\n",
        "    except Exception as e:\n",
        "        print(f\"Unexpected error: {e}\")\n",
        "        return False, str(e)\n",
        "\n",
        "# Try initialization\n",
        "success, method = try_voikko_initialization()\n",
        "if success:\n",
        "    print(f\"Successfully initialized Voikko using: {method}\")\n",
        "else:\n",
        "    print(f\"Failed to initialize Voikko: {method}\")"
      ],
      "outputs": [
        {
          "output_type": "stream",
          "name": "stdout",
          "text": "Checking dictionary paths:\nChecking /anaconda/envs/semantic-analyzer/share/voikko\nChecking /anaconda/envs/semantic-analyzer/lib/voikko\nChecking /usr/share/voikko\nChecking /usr/lib/voikko\n\nTrying Default initialization\nFailed: libvoikko.so.1: cannot open shared object file: No such file or directory\n\nTrying With conda lib path\nFailed: libvoikko.so.1: cannot open shared object file: No such file or directory\n\nTrying With share/voikko path\nFailed: libvoikko.so.1: cannot open shared object file: No such file or directory\n\nTrying With usr/share/voikko path\nFailed: libvoikko.so.1: cannot open shared object file: No such file or directory\n\nTrying With usr/lib/voikko path\nFailed: libvoikko.so.1: cannot open shared object file: No such file or directory\nAll initialization attempts failed\nFailed to initialize Voikko: All attempts failed\n"
        }
      ],
      "execution_count": 30,
      "metadata": {
        "jupyter": {
          "source_hidden": false,
          "outputs_hidden": false
        },
        "nteract": {
          "transient": {
            "deleting": false
          }
        },
        "gather": {
          "logged": 1733686129024
        }
      }
    },
    {
      "cell_type": "code",
      "source": [
        "Path(os.environ.get('HOME', '')) /'cloudfiles' / 'code' / 'Users' / 'topi.jarvinen'"
      ],
      "outputs": [
        {
          "output_type": "execute_result",
          "execution_count": 37,
          "data": {
            "text/plain": "PosixPath('/home/azureuser/cloudfiles/code/Users/topi.jarvinen')"
          },
          "metadata": {}
        }
      ],
      "execution_count": 37,
      "metadata": {
        "jupyter": {
          "source_hidden": false,
          "outputs_hidden": false
        },
        "nteract": {
          "transient": {
            "deleting": false
          }
        },
        "gather": {
          "logged": 1733686508707
        }
      }
    },
    {
      "cell_type": "code",
      "source": [
        "/home/azureuser/cloudfiles/code/Users/topi.jarvinen/"
      ],
      "outputs": [],
      "execution_count": null,
      "metadata": {
        "jupyter": {
          "source_hidden": false,
          "outputs_hidden": false
        },
        "nteract": {
          "transient": {
            "deleting": false
          }
        }
      }
    },
    {
      "cell_type": "code",
      "source": [
        "import os\n",
        "import logging\n",
        "from pathlib import Path\n",
        "from libvoikko import Voikko\n",
        "\n",
        "# Configure logging\n",
        "logger = logging.getLogger()\n",
        "logger.setLevel(logging.DEBUG)\n",
        "\n",
        "def setup_voikko():\n",
        "    \"\"\"Set up Voikko with dictionary paths based on official search order.\"\"\"\n",
        "    conda_env_path = Path(\"/anaconda/envs/semantic-analyzer\")\n",
        "    home_dir = Path(os.environ.get('HOME', '')) /'cloudfiles' / 'code' / 'Users' / 'topi.jarvinen'\n",
        "    # home_dir = Path(os.environ.get('HOME', '')) /\n",
        "    print(home_dir)\n",
        "    \n",
        "    # Dictionary search paths in order of precedence\n",
        "    dict_paths = [\n",
        "        # 1. User's .voikko directory\n",
        "        home_dir / '.voikko',\n",
        "        # 2. System-wide configuration\n",
        "        Path('/etc/voikko'),\n",
        "        # 3. Conda environment paths\n",
        "        conda_env_path / 'share' / 'voikko',\n",
        "        conda_env_path / 'lib' / 'voikko',\n",
        "    ]\n",
        "\n",
        "    # Debug: Print all potential paths\n",
        "    print(\"Checking dictionary paths:\")\n",
        "    for path in dict_paths:\n",
        "        print(f\"Checking {path}\")\n",
        "        if path.exists():\n",
        "            print(f\"Found directory: {path}\")\n",
        "            # List contents with version subdirectory\n",
        "            version_path = path / \"5\"  # Voikko appends \"/2\" for the dictionary version\n",
        "            if version_path.exists():\n",
        "                print(f\"Found version directory: {version_path}\")\n",
        "                print(\"Contents:\")\n",
        "                for item in version_path.iterdir():\n",
        "                    print(f\"  {item}\")\n",
        "\n",
        "    # Create dictionary path string with OS-specific separator\n",
        "    dict_path_str = os.pathsep.join(str(p) for p in dict_paths if p.exists())\n",
        "    if dict_path_str:\n",
        "        print(f\"Setting VOIKKO_DICTIONARY_PATH to: {dict_path_str}\")\n",
        "        os.environ['VOIKKO_DICTIONARY_PATH'] = dict_path_str\n",
        "\n",
        "    try:\n",
        "        # Check available dictionaries\n",
        "        print(\"Available dictionaries:\")\n",
        "        dicts = Voikko.listDicts()\n",
        "        for d in dicts:\n",
        "            print(f\"  {d.variant} ({d.language})\")\n",
        "\n",
        "        # Try to initialize Voikko\n",
        "        print(\"Attempting to initialize Voikko...\")\n",
        "        v = Voikko(\"fi\")\n",
        "        \n",
        "        # Test with a simple word\n",
        "        result = v.analyze(\"kissa\")\n",
        "        print(f\"Analysis result: {result}\")\n",
        "        \n",
        "        # Cleanup\n",
        "        v.terminate()\n",
        "        return True\n",
        "\n",
        "    except Exception as e:\n",
        "        print(f\"Failed to initialize Voikko: {e}\")\n",
        "        return False\n",
        "\n",
        "# Try setup\n",
        "if setup_voikko():\n",
        "    print(\"Voikko configured successfully\")\n",
        "else:\n",
        "    print(\"Using fallback mode\")\n",
        "\n",
        "# Additional check: List supported languages\n",
        "print(\"\\nSupported spelling languages:\", Voikko.listSupportedSpellingLanguages())\n",
        "print(\"Supported dictionaries:\", Voikko.listDicts())"
      ],
      "outputs": [
        {
          "output_type": "stream",
          "name": "stdout",
          "text": "/home/azureuser/cloudfiles/code/Users/topi.jarvinen\nChecking dictionary paths:\nChecking /home/azureuser/cloudfiles/code/Users/topi.jarvinen/.voikko\nFound directory: /home/azureuser/cloudfiles/code/Users/topi.jarvinen/.voikko\nFound version directory: /home/azureuser/cloudfiles/code/Users/topi.jarvinen/.voikko/5\nContents:\n  /home/azureuser/cloudfiles/code/Users/topi.jarvinen/.voikko/5/mor-standard\nChecking /etc/voikko\nChecking /anaconda/envs/semantic-analyzer/share/voikko\nChecking /anaconda/envs/semantic-analyzer/lib/voikko\nSetting VOIKKO_DICTIONARY_PATH to: /home/azureuser/cloudfiles/code/Users/topi.jarvinen/.voikko\nAvailable dictionaries:\nFailed to initialize Voikko: libvoikko.so.1: cannot open shared object file: No such file or directory\nUsing fallback mode\n"
        },
        {
          "output_type": "error",
          "ename": "OSError",
          "evalue": "libvoikko.so.1: cannot open shared object file: No such file or directory",
          "traceback": [
            "\u001b[0;31m---------------------------------------------------------------------------\u001b[0m",
            "\u001b[0;31mOSError\u001b[0m                                   Traceback (most recent call last)",
            "Cell \u001b[0;32mIn[39], line 78\u001b[0m\n\u001b[1;32m     75\u001b[0m     \u001b[38;5;28mprint\u001b[39m(\u001b[38;5;124m\"\u001b[39m\u001b[38;5;124mUsing fallback mode\u001b[39m\u001b[38;5;124m\"\u001b[39m)\n\u001b[1;32m     77\u001b[0m \u001b[38;5;66;03m# Additional check: List supported languages\u001b[39;00m\n\u001b[0;32m---> 78\u001b[0m \u001b[38;5;28mprint\u001b[39m(\u001b[38;5;124m\"\u001b[39m\u001b[38;5;130;01m\\n\u001b[39;00m\u001b[38;5;124mSupported spelling languages:\u001b[39m\u001b[38;5;124m\"\u001b[39m, \u001b[43mVoikko\u001b[49m\u001b[38;5;241;43m.\u001b[39;49m\u001b[43mlistSupportedSpellingLanguages\u001b[49m\u001b[43m(\u001b[49m\u001b[43m)\u001b[49m)\n\u001b[1;32m     79\u001b[0m \u001b[38;5;28mprint\u001b[39m(\u001b[38;5;124m\"\u001b[39m\u001b[38;5;124mSupported dictionaries:\u001b[39m\u001b[38;5;124m\"\u001b[39m, Voikko\u001b[38;5;241m.\u001b[39mlistDicts())\n",
            "File \u001b[0;32m/anaconda/envs/semantic-analyzer/lib/python3.9/site-packages/libvoikko.py:529\u001b[0m, in \u001b[0;36mVoikko.listSupportedSpellingLanguages\u001b[0;34m(cls, path)\u001b[0m\n\u001b[1;32m    522\u001b[0m \u001b[38;5;129m@classmethod\u001b[39m\n\u001b[1;32m    523\u001b[0m \u001b[38;5;28;01mdef\u001b[39;00m \u001b[38;5;21mlistSupportedSpellingLanguages\u001b[39m(\u001b[38;5;28mcls\u001b[39m, path\u001b[38;5;241m=\u001b[39m\u001b[38;5;28;01mNone\u001b[39;00m):\n\u001b[1;32m    524\u001b[0m \u001b[38;5;250m    \u001b[39m\u001b[38;5;124;03m\"\"\"Return a list of language codes representing the languages for which\u001b[39;00m\n\u001b[1;32m    525\u001b[0m \u001b[38;5;124;03m    at least one dictionary is available for spell checking.\u001b[39;00m\n\u001b[1;32m    526\u001b[0m \u001b[38;5;124;03m    If path is specified, it will be searched first before looking from\u001b[39;00m\n\u001b[1;32m    527\u001b[0m \u001b[38;5;124;03m    the standard locations.\u001b[39;00m\n\u001b[1;32m    528\u001b[0m \u001b[38;5;124;03m    \"\"\"\u001b[39;00m\n\u001b[0;32m--> 529\u001b[0m     lib \u001b[38;5;241m=\u001b[39m \u001b[38;5;28;43mcls\u001b[39;49m\u001b[38;5;241;43m.\u001b[39;49m\u001b[43m__getLib\u001b[49m\u001b[43m(\u001b[49m\u001b[43m)\u001b[49m\n\u001b[1;32m    531\u001b[0m     \u001b[38;5;28;01mdef\u001b[39;00m \u001b[38;5;21mlistOperation\u001b[39m(p):\n\u001b[1;32m    532\u001b[0m         \u001b[38;5;28;01mreturn\u001b[39;00m lib\u001b[38;5;241m.\u001b[39mvoikkoListSupportedSpellingLanguages(p)\n",
            "File \u001b[0;32m/anaconda/envs/semantic-analyzer/lib/python3.9/site-packages/libvoikko.py:422\u001b[0m, in \u001b[0;36mVoikko.__getLib\u001b[0;34m(cls)\u001b[0m\n\u001b[1;32m    420\u001b[0m \u001b[38;5;129m@classmethod\u001b[39m\n\u001b[1;32m    421\u001b[0m \u001b[38;5;28;01mdef\u001b[39;00m \u001b[38;5;21m__getLib\u001b[39m(\u001b[38;5;28mcls\u001b[39m):\n\u001b[0;32m--> 422\u001b[0m     \u001b[38;5;28;01mreturn\u001b[39;00m \u001b[43mVoikkoLibrary\u001b[49m\u001b[38;5;241;43m.\u001b[39;49m\u001b[43mopen\u001b[49m\u001b[43m(\u001b[49m\u001b[43mpath\u001b[49m\u001b[38;5;241;43m=\u001b[39;49m\u001b[38;5;28;43mcls\u001b[39;49m\u001b[38;5;241;43m.\u001b[39;49m\u001b[43m_sharedLibrarySearchPath\u001b[49m\u001b[43m)\u001b[49m\n",
            "File \u001b[0;32m/anaconda/envs/semantic-analyzer/lib/python3.9/site-packages/libvoikko.py:302\u001b[0m, in \u001b[0;36mVoikkoLibrary.open\u001b[0;34m(cls, path)\u001b[0m\n\u001b[1;32m    300\u001b[0m         \u001b[38;5;28;01mexcept\u001b[39;00m:\n\u001b[1;32m    301\u001b[0m             \u001b[38;5;28;01mpass\u001b[39;00m\n\u001b[0;32m--> 302\u001b[0m \u001b[38;5;28;01mreturn\u001b[39;00m \u001b[38;5;28;43mcls\u001b[39;49m\u001b[43m(\u001b[49m\u001b[43mfileName\u001b[49m\u001b[43m)\u001b[49m\n",
            "File \u001b[0;32m/anaconda/envs/semantic-analyzer/lib/python3.9/site-packages/libvoikko.py:305\u001b[0m, in \u001b[0;36mVoikkoLibrary.__init__\u001b[0;34m(self, filename)\u001b[0m\n\u001b[1;32m    304\u001b[0m \u001b[38;5;28;01mdef\u001b[39;00m \u001b[38;5;21m__init__\u001b[39m(\u001b[38;5;28mself\u001b[39m, filename):\n\u001b[0;32m--> 305\u001b[0m     \u001b[38;5;28;43msuper\u001b[39;49m\u001b[43m(\u001b[49m\u001b[43mVoikkoLibrary\u001b[49m\u001b[43m,\u001b[49m\u001b[43m \u001b[49m\u001b[38;5;28;43mself\u001b[39;49m\u001b[43m)\u001b[49m\u001b[38;5;241;43m.\u001b[39;49m\u001b[38;5;21;43m__init__\u001b[39;49m\u001b[43m(\u001b[49m\u001b[43mfilename\u001b[49m\u001b[43m)\u001b[49m\n\u001b[1;32m    307\u001b[0m     \u001b[38;5;28mself\u001b[39m\u001b[38;5;241m.\u001b[39mvoikkoInit\u001b[38;5;241m.\u001b[39margtypes \u001b[38;5;241m=\u001b[39m [POINTER(c_char_p), c_char_p, c_char_p]\n\u001b[1;32m    308\u001b[0m     \u001b[38;5;28mself\u001b[39m\u001b[38;5;241m.\u001b[39mvoikkoInit\u001b[38;5;241m.\u001b[39mrestype \u001b[38;5;241m=\u001b[39m c_void_p\n",
            "File \u001b[0;32m/anaconda/envs/semantic-analyzer/lib/python3.9/ctypes/__init__.py:374\u001b[0m, in \u001b[0;36mCDLL.__init__\u001b[0;34m(self, name, mode, handle, use_errno, use_last_error, winmode)\u001b[0m\n\u001b[1;32m    371\u001b[0m \u001b[38;5;28mself\u001b[39m\u001b[38;5;241m.\u001b[39m_FuncPtr \u001b[38;5;241m=\u001b[39m _FuncPtr\n\u001b[1;32m    373\u001b[0m \u001b[38;5;28;01mif\u001b[39;00m handle \u001b[38;5;129;01mis\u001b[39;00m \u001b[38;5;28;01mNone\u001b[39;00m:\n\u001b[0;32m--> 374\u001b[0m     \u001b[38;5;28mself\u001b[39m\u001b[38;5;241m.\u001b[39m_handle \u001b[38;5;241m=\u001b[39m \u001b[43m_dlopen\u001b[49m\u001b[43m(\u001b[49m\u001b[38;5;28;43mself\u001b[39;49m\u001b[38;5;241;43m.\u001b[39;49m\u001b[43m_name\u001b[49m\u001b[43m,\u001b[49m\u001b[43m \u001b[49m\u001b[43mmode\u001b[49m\u001b[43m)\u001b[49m\n\u001b[1;32m    375\u001b[0m \u001b[38;5;28;01melse\u001b[39;00m:\n\u001b[1;32m    376\u001b[0m     \u001b[38;5;28mself\u001b[39m\u001b[38;5;241m.\u001b[39m_handle \u001b[38;5;241m=\u001b[39m handle\n",
            "\u001b[0;31mOSError\u001b[0m: libvoikko.so.1: cannot open shared object file: No such file or directory"
          ]
        }
      ],
      "execution_count": 39,
      "metadata": {
        "jupyter": {
          "source_hidden": false,
          "outputs_hidden": false
        },
        "nteract": {
          "transient": {
            "deleting": false
          }
        },
        "gather": {
          "logged": 1733686751539
        }
      }
    }
  ],
  "metadata": {
    "kernelspec": {
      "name": "semantic-analyzer",
      "language": "python",
      "display_name": "Python (semantic-analyzer)"
    },
    "language_info": {
      "name": "python",
      "version": "3.9.21",
      "mimetype": "text/x-python",
      "codemirror_mode": {
        "name": "ipython",
        "version": 3
      },
      "pygments_lexer": "ipython3",
      "nbconvert_exporter": "python",
      "file_extension": ".py"
    },
    "microsoft": {
      "ms_spell_check": {
        "ms_spell_check_language": "en"
      },
      "host": {
        "AzureML": {
          "notebookHasBeenCompleted": true
        }
      }
    },
    "kernel_info": {
      "name": "semantic-analyzer"
    },
    "nteract": {
      "version": "nteract-front-end@1.0.0"
    }
  },
  "nbformat": 4,
  "nbformat_minor": 2
}