{
 "cells": [
  {
   "cell_type": "code",
   "execution_count": 9,
   "metadata": {
    "gather": {
     "logged": 1733727680875
    },
    "jupyter": {
     "outputs_hidden": false,
     "source_hidden": false
    },
    "nteract": {
     "transient": {
      "deleting": false
     }
    }
   },
   "outputs": [],
   "source": [
    "import libvoikko\n",
    "from libvoikko import Voikko\n",
    "import os\n"
   ]
  },
  {
   "cell_type": "code",
   "execution_count": 10,
   "metadata": {},
   "outputs": [
    {
     "name": "stdout",
     "output_type": "stream",
     "text": [
      "Voikko path: C:\\scripts\\Voikko\n",
      "Voikko library path: C:\\scripts\\Voikko\n",
      "Voikko test result: [{'BASEFORM': 'koneoppimismalli', 'CLASS': 'nimisana', 'FSTOUTPUT': '[Ln][Xp]kone[X]kone[Sn][Ny][Bh][Bc][Lt][Xp]oppia[X]oppi[Tn4]mis[Bh][Bc][Ln][Xp]malli[X]mall[Sg][Ny]in', 'NUMBER': 'singular', 'SIJAMUOTO': 'omanto', 'STRUCTURE': '=pppp=ppppppp=pppppp', 'WORDBASES': '+kone(kone)+oppimis(oppia)+malli(malli)'}]\n"
     ]
    }
   ],
   "source": [
    "def init_voikko(voikko_path: str = r\"C:\\scripts\\Voikko\") -> Voikko:\n",
    "    \"\"\"Initialize Voikko with proper Windows path handling.\n",
    "    \n",
    "    Args:\n",
    "        voikko_path: Path to Voikko installation directory\n",
    "        \n",
    "    Returns:\n",
    "        Voikko instance\n",
    "    \"\"\"\n",
    "    # Set up paths\n",
    "    os.environ[\"PATH\"] = voikko_path + os.pathsep + os.environ[\"PATH\"]\n",
    "    if hasattr(os, 'add_dll_directory'):\n",
    "        os.add_dll_directory(voikko_path)\n",
    "    \n",
    "    print(f\"Voikko path: {voikko_path}\")\n",
    "    \n",
    "    Voikko.setLibrarySearchPath(r\"C:\\scripts\\Voikko\\5\\mor-standard\")\n",
    "    Voikko.setLibrarySearchPath(r\"C:\\scripts\\Voikko\")\n",
    "\n",
    "\n",
    "    print(f\"Voikko library path: {Voikko._sharedLibrarySearchPath}\")\n",
    "    \n",
    "    \n",
    "    # Initialize and return\n",
    "    return Voikko(\"fi\", voikko_path)\n",
    "\n",
    "# Use it\n",
    "v = init_voikko()\n",
    "result = v.analyze(\"koneoppimismallin\")\n",
    "print(f\"Voikko test result: {result}\")\n",
    "# v.terminate()"
   ]
  },
  {
   "cell_type": "code",
   "execution_count": 11,
   "metadata": {
    "gather": {
     "logged": 1733727681615
    },
    "jupyter": {
     "outputs_hidden": false,
     "source_hidden": false
    },
    "nteract": {
     "transient": {
      "deleting": false
     }
    }
   },
   "outputs": [
    {
     "data": {
      "text/plain": [
       "['CDLL',\n",
       " 'Dictionary',\n",
       " 'GrammarError',\n",
       " 'MAX_ANALYSIS_COUNT',\n",
       " 'MAX_WORD_CHARS',\n",
       " 'POINTER',\n",
       " 'Sentence',\n",
       " 'Structure',\n",
       " 'SuggestionStrategy',\n",
       " 'Token',\n",
       " 'Voikko',\n",
       " 'VoikkoException',\n",
       " 'VoikkoLibrary',\n",
       " '__builtins__',\n",
       " '__cached__',\n",
       " '__doc__',\n",
       " '__file__',\n",
       " '__loader__',\n",
       " '__name__',\n",
       " '__package__',\n",
       " '__spec__',\n",
       " '_anyStringToPath',\n",
       " '_anyStringToUtf8',\n",
       " '_boolToInt',\n",
       " 'addressof',\n",
       " 'binary_str',\n",
       " 'byref',\n",
       " 'c_char',\n",
       " 'c_char_p',\n",
       " 'c_int',\n",
       " 'c_size_t',\n",
       " 'c_void_p',\n",
       " 'c_wchar',\n",
       " 'c_wchar_p',\n",
       " 'create_unicode_buffer',\n",
       " 'os',\n",
       " 'platform',\n",
       " 'pointer',\n",
       " 'repr_conv',\n",
       " 'sizeof',\n",
       " 'string_at',\n",
       " 'sys',\n",
       " 'unicode_literals',\n",
       " 'unicode_str']"
      ]
     },
     "execution_count": 11,
     "metadata": {},
     "output_type": "execute_result"
    }
   ],
   "source": [
    "dir(libvoikko)"
   ]
  }
 ],
 "metadata": {
  "kernel_info": {
   "name": "semantic-analyzer"
  },
  "kernelspec": {
   "display_name": "semantic-analyzer",
   "language": "python",
   "name": "python3"
  },
  "language_info": {
   "codemirror_mode": {
    "name": "ipython",
    "version": 3
   },
   "file_extension": ".py",
   "mimetype": "text/x-python",
   "name": "python",
   "nbconvert_exporter": "python",
   "pygments_lexer": "ipython3",
   "version": "3.9.21"
  },
  "microsoft": {
   "host": {
    "AzureML": {
     "notebookHasBeenCompleted": true
    }
   },
   "ms_spell_check": {
    "ms_spell_check_language": "en"
   }
  },
  "nteract": {
   "version": "nteract-front-end@1.0.0"
  }
 },
 "nbformat": 4,
 "nbformat_minor": 2
}
