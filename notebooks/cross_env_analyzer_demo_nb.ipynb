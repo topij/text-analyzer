{
 "cells": [
  {
   "cell_type": "markdown",
   "metadata": {},
   "source": [
    "# Cross-Environment Semantic Analysis Demo\n",
    "\n",
    "See also separate [documentation](../docs/ANALYSIS_DEMO_DOC.md) sheet\n"
   ]
  },
  {
   "cell_type": "markdown",
   "metadata": {},
   "source": [
    "## 1. Environment Setup\n"
   ]
  },
  {
   "cell_type": "markdown",
   "metadata": {},
   "source": [
    "#### Import dependencies"
   ]
  },
  {
   "cell_type": "code",
   "execution_count": 1,
   "metadata": {},
   "outputs": [],
   "source": [
    "import asyncio\n",
    "import logging\n",
    "from pathlib import Path\n",
    "import sys\n",
    "from typing import Optional\n",
    "\n",
    "\n",
    "# Add project root to path (for local environment)\n",
    "project_root = str(Path().resolve().parent)\n",
    "if project_root not in sys.path:\n",
    "    sys.path.append(project_root)\n"
   ]
  },
  {
   "cell_type": "code",
   "execution_count": 2,
   "metadata": {},
   "outputs": [],
   "source": [
    "# import main interface to analyzers\n",
    "from src.semantic_analyzer import SemanticAnalyzer\n",
    "\n",
    "# import formatting\n",
    "from src.utils.formatting_config import OutputDetail, ExcelOutputConfig\n"
   ]
  },
  {
   "cell_type": "code",
   "execution_count": 3,
   "metadata": {},
   "outputs": [],
   "source": [
    "# Import environment setup\n",
    "from src.core.managers import EnvironmentManager, EnvironmentConfig"
   ]
  },
  {
   "cell_type": "markdown",
   "metadata": {},
   "source": [
    "### Set up environment"
   ]
  },
  {
   "cell_type": "code",
   "execution_count": null,
   "metadata": {},
   "outputs": [],
   "source": [
    "# Set environment type\n",
    "ENV_TYPE = \"local\"  # Change to \"azure\" when running in Azure ML and you want persistent blob storage\n",
    "\n",
    "# Configure environment\n",
    "env_config = EnvironmentConfig(\n",
    "    env_type=ENV_TYPE,\n",
    "    project_root=Path().resolve().parent,\n",
    "    log_level=\"INFO\" # use config.yaml or .env for now to change logging level\n",
    ")\n",
    "environment = EnvironmentManager(env_config)\n",
    "\n",
    "# Get initialized components\n",
    "components = environment.get_components()\n",
    "file_utils = components[\"file_utils\"]\n",
    "\n",
    "# Configure logging for HTTP clients\n",
    "logging.getLogger(\"httpx\").setLevel(logging.WARNING)\n",
    "logging.getLogger(\"httpcore\").setLevel(logging.WARNING)"
   ]
  },
  {
   "cell_type": "markdown",
   "metadata": {},
   "source": [
    "### User defined setup\n",
    "- parameter file (how) and content file to be analyzed (what)\n"
   ]
  },
  {
   "cell_type": "code",
   "execution_count": 5,
   "metadata": {},
   "outputs": [],
   "source": [
    "# parameter_file = \"parameters_en.xlsx\"\n",
    "# content_file = \"test_content_en.xlsx\"\n",
    "\n",
    "\n",
    "parameter_file = \"parameters_fi.xlsx\"\n",
    "content_file = \"test_content_fi.xlsx\"\n",
    "\n",
    "# Change to True if you want to use Azure OpenAI API, if not already defined in config.yaml\n",
    "azure = False"
   ]
  },
  {
   "cell_type": "markdown",
   "metadata": {},
   "source": [
    "## 2. Initialize Analyzer\n",
    "\n",
    "-  Initialize analyzer with formatting config\n",
    "-  Parameter file paths are handled automatically by FileUtils\n"
   ]
  },
  {
   "cell_type": "code",
   "execution_count": null,
   "metadata": {},
   "outputs": [],
   "source": [
    "# Example texts\n",
    "texts = {\n",
    "    \"en\": \"Machine learning models analyze data efficiently.\",\n",
    "    \"fi\": \"Koneoppimismallit analysoivat dataa tehokkaasti.\"\n",
    "}\n",
    "\n",
    "# Initialize analyzer\n",
    "analyzer = SemanticAnalyzer(\n",
    "    parameter_file=parameter_file,\n",
    "    file_utils=file_utils\n",
    ")\n",
    "\n",
    "# # Helper function for text analysis\n",
    "# async def analyze_text(text: str, language: str):\n",
    "#     result = await analyzer.analyze(\n",
    "#         text=text,\n",
    "#         language=language,\n",
    "#         analysis_types=[\"keywords\", \"themes\", \"categories\"]\n",
    "#     )\n",
    "    \n",
    "#     if result.success:\n",
    "#         print(f\"\\nAnalysis results for {language}:\")\n",
    "#         print(\"Keywords:\")\n",
    "#         for kw in result.keywords.keywords:\n",
    "#             print(f\"• {kw.keyword} (score: {kw.score:.2f})\")\n",
    "            \n",
    "#         print(\"\\nThemes:\")\n",
    "#         for theme in result.themes.themes:\n",
    "#             print(f\"• {theme.name} ({theme.confidence:.2f})\")\n",
    "            \n",
    "#         if result.categories and result.categories.categories:\n",
    "#             print(\"\\nCategories:\")\n",
    "#             for cat in result.categories.categories:\n",
    "#                 print(f\"• {cat.name} ({cat.confidence:.2f})\")\n",
    "#     else:\n",
    "#         print(f\"Error: {result.error}\")\n",
    "\n",
    "async def analyze_text(text: str, language: str):\n",
    "    result = await analyzer.analyze(\n",
    "        text=text,\n",
    "        language=language,\n",
    "        analysis_types=[\"keywords\", \"themes\", \"categories\"]\n",
    "    )\n",
    "    \n",
    "    if result.success:\n",
    "        print(f\"\\nAnalysis results for {language}:\")\n",
    "        print(\"Keywords:\")\n",
    "        for kw in result.keywords.keywords:\n",
    "            print(f\"• {kw.keyword} (score: {kw.score:.2f})\")\n",
    "            \n",
    "        print(\"\\nThemes:\")\n",
    "        for theme in result.themes.themes:\n",
    "            print(f\"• {theme.name} ({theme.confidence:.2f})\")\n",
    "            \n",
    "        if result.categories and result.categories.matches:\n",
    "            print(\"\\nCategories:\")\n",
    "            for cat in result.categories.matches:\n",
    "                print(f\"• {cat.name} ({cat.confidence:.2f})\")\n",
    "    else:\n",
    "        print(f\"Error: {result.error}\")"
   ]
  },
  {
   "cell_type": "markdown",
   "metadata": {},
   "source": [
    "#### Single text analysis\n"
   ]
  },
  {
   "cell_type": "code",
   "execution_count": null,
   "metadata": {},
   "outputs": [],
   "source": [
    "print(\"\\n=== Single Text Analysis ===\")\n",
    "for lang, text in texts.items():\n",
    "    await analyze_text(text, lang)"
   ]
  },
  {
   "cell_type": "markdown",
   "metadata": {},
   "source": [
    "#### Excel processing\n"
   ]
  },
  {
   "cell_type": "code",
   "execution_count": null,
   "metadata": {},
   "outputs": [],
   "source": [
    "# Configure output formatting\n",
    "output_config = ExcelOutputConfig(\n",
    "    output_detail=OutputDetail.MINIMAL,\n",
    "    include_metadata=True,\n",
    "    include_confidence_scores=True\n",
    ")\n",
    "\n",
    "# Analyze Excel file\n",
    "result_df = await analyzer.analyze_excel(\n",
    "    content_file=content_file,\n",
    "    analysis_types=[\"keywords\", \"themes\", \"categories\"],\n",
    "    save_results=True,\n",
    "    output_file=\"results.xlsx\",\n",
    "    output_config=output_config\n",
    ")\n",
    "\n",
    "print(\"\\nExcel analysis completed successfully\")\n",
    "print(f\"Results saved to: results.xlsx\")\n",
    "print(\"\\nAnalysis Results:\")\n",
    "print(result_df)"
   ]
  },
  {
   "cell_type": "code",
   "execution_count": 9,
   "metadata": {},
   "outputs": [],
   "source": [
    "# # Configure output formatting\n",
    "# output_config = ExcelOutputConfig(\n",
    "#     output_detail=OutputDetail.MINIMAL,\n",
    "#     include_metadata=True,\n",
    "#     include_confidence_scores=True\n",
    "# )\n",
    "\n",
    "# # Analyze Excel file\n",
    "# result = await analyzer.analyze_excel(\n",
    "#     # excel_file=content_file,\n",
    "#     content_file=content_file,\n",
    "\n",
    "#     analysis_types=[\"keywords\", \"themes\", \"categories\"],\n",
    "#     save_results=True,\n",
    "#     output_file=\"results.xlsx\",\n",
    "#     output_config=output_config\n",
    "# )\n",
    "\n",
    "# if result.success:\n",
    "#     print(\"\\nExcel analysis completed successfully\")\n",
    "#     print(f\"Results saved to: {result.output_file}\")\n",
    "# else:\n",
    "#     print(f\"Error: {result.error}\")"
   ]
  },
  {
   "cell_type": "code",
   "execution_count": null,
   "metadata": {},
   "outputs": [],
   "source": []
  }
 ],
 "metadata": {
  "kernel_info": {
   "name": "semantic-analyzer"
  },
  "kernelspec": {
   "display_name": "semantic-analyzer",
   "language": "python",
   "name": "python3"
  },
  "language_info": {
   "codemirror_mode": {
    "name": "ipython",
    "version": 3
   },
   "file_extension": ".py",
   "mimetype": "text/x-python",
   "name": "python",
   "nbconvert_exporter": "python",
   "pygments_lexer": "ipython3",
   "version": "3.9.21"
  }
 },
 "nbformat": 4,
 "nbformat_minor": 2
}
