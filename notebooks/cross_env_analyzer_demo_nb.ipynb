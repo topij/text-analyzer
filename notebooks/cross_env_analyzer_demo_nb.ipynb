{
 "cells": [
  {
   "cell_type": "markdown",
   "metadata": {},
   "source": [
    "# Cross-Environment Semantic Analysis Demo\n",
    "\n",
    "See also separate [documentation](../docs/ANALYSIS_DEMO_DOC.md) sheet\n"
   ]
  },
  {
   "cell_type": "markdown",
   "metadata": {},
   "source": [
    "## 1. Environment Setup\n"
   ]
  },
  {
   "cell_type": "markdown",
   "metadata": {},
   "source": [
    "#### Import dependencies"
   ]
  },
  {
   "cell_type": "markdown",
   "metadata": {},
   "source": []
  },
  {
   "cell_type": "code",
   "execution_count": 1,
   "metadata": {},
   "outputs": [],
   "source": [
    "import asyncio\n",
    "import logging\n",
    "from pathlib import Path\n",
    "import sys\n",
    "from typing import Optional\n",
    "\n",
    "\n",
    "# Add project root to path (for local environment)\n",
    "project_root = str(Path().resolve().parent)\n",
    "if project_root not in sys.path:\n",
    "    sys.path.append(project_root)\n"
   ]
  },
  {
   "cell_type": "code",
   "execution_count": 2,
   "metadata": {},
   "outputs": [],
   "source": [
    "# import main interface to analyzers\n",
    "from src.semantic_analyzer import SemanticAnalyzer\n",
    "\n",
    "# import formatting\n",
    "from src.utils.formatting_config import OutputDetail, ExcelOutputConfig\n"
   ]
  },
  {
   "cell_type": "code",
   "execution_count": 3,
   "metadata": {},
   "outputs": [],
   "source": [
    "# Import environment setup\n",
    "from src.core.managers import EnvironmentManager, EnvironmentConfig"
   ]
  },
  {
   "cell_type": "markdown",
   "metadata": {},
   "source": [
    "### Set up environment"
   ]
  },
  {
   "cell_type": "code",
   "execution_count": 4,
   "metadata": {},
   "outputs": [
    {
     "name": "stdout",
     "output_type": "stream",
     "text": [
      "2025-02-20 21:54:20,453 - FileUtils.core.file_utils - INFO - Project root: /Users/topi/data-science/repos/text-analyzer\n"
     ]
    },
    {
     "name": "stderr",
     "output_type": "stream",
     "text": [
      "2025-02-20 21:54:20,453 - FileUtils.core.file_utils - INFO - Project root: /Users/topi/data-science/repos/text-analyzer\n"
     ]
    },
    {
     "name": "stdout",
     "output_type": "stream",
     "text": [
      "2025-02-20 21:54:20,454 - FileUtils.core.file_utils - INFO - FileUtils initialized with local storage\n"
     ]
    },
    {
     "name": "stderr",
     "output_type": "stream",
     "text": [
      "2025-02-20 21:54:20,454 - FileUtils.core.file_utils - INFO - FileUtils initialized with local storage\n",
      "2025-02-20 21:54:20,471 - src.core.managers.environment_manager - INFO - Environment initialized successfully\n"
     ]
    }
   ],
   "source": [
    "# Set environment type\n",
    "ENV_TYPE = \"local\"  # Change to \"azure\" when running in Azure ML and you want persistent blob storage\n",
    "\n",
    "# Configure environment\n",
    "env_config = EnvironmentConfig(\n",
    "    env_type=ENV_TYPE,\n",
    "    project_root=Path().resolve().parent,\n",
    "    log_level=\"INFO\" # use config.yaml or .env for now to change logging level\n",
    ")\n",
    "environment = EnvironmentManager(env_config)\n",
    "\n",
    "# Get initialized components\n",
    "components = environment.get_components()\n",
    "file_utils = components[\"file_utils\"]\n",
    "\n",
    "# Configure logging for HTTP clients\n",
    "logging.getLogger(\"httpx\").setLevel(logging.WARNING)\n",
    "logging.getLogger(\"httpcore\").setLevel(logging.WARNING)"
   ]
  },
  {
   "cell_type": "markdown",
   "metadata": {},
   "source": [
    "### User defined setup\n",
    "- parameter file (how) and content file to be analyzed (what)\n"
   ]
  },
  {
   "cell_type": "code",
   "execution_count": 5,
   "metadata": {},
   "outputs": [],
   "source": [
    "# parameter_file = \"parameters_en.xlsx\"\n",
    "# content_file = \"test_content_en.xlsx\"\n",
    "\n",
    "parameter_file = \"support_parameters_fi.xlsx\"\n",
    "content_file = \"support_test_content_fi.xlsx\"\n",
    "# parameter_file = \"business_parameters_en.xlsx\"\n",
    "# content_file = \"business_test_content_en.xlsx\"\n",
    "\n",
    "# Change to True if you want to use Azure OpenAI API, if not already defined in config.yaml\n",
    "azure = False"
   ]
  },
  {
   "cell_type": "markdown",
   "metadata": {},
   "source": [
    "## 2. Initialize Analyzer\n",
    "\n",
    "-  Initialize analyzer with formatting config\n",
    "-  Parameter file paths are handled automatically by FileUtils\n"
   ]
  },
  {
   "cell_type": "code",
   "execution_count": 6,
   "metadata": {},
   "outputs": [
    {
     "name": "stderr",
     "output_type": "stream",
     "text": [
      "2025-02-20 21:54:21,057 - src.core.language_processing.finnish - INFO - Loaded 747 stopwords from /Users/topi/data-science/repos/text-analyzer/data/config/stop_words/fi.txt\n",
      "2025-02-20 21:54:21,058 - src.core.language_processing.finnish.VoikkoHandler - DEBUG - Initialized with config: {'min_keyword_length': 3, 'include_compounds': True}\n",
      "2025-02-20 21:54:21,058 - src.core.language_processing.finnish.VoikkoHandler - DEBUG - Trying library paths: ['/opt/homebrew/lib/libvoikko.dylib', '/usr/local/lib/libvoikko.dylib']\n",
      "2025-02-20 21:54:21,058 - src.core.language_processing.finnish.VoikkoHandler - DEBUG - Trying dictionary paths: ['/opt/homebrew/lib/voikko', '/usr/local/lib/voikko', '/usr/local/share/voikko']\n",
      "2025-02-20 21:54:21,066 - src.core.language_processing.finnish.VoikkoHandler - INFO - Successfully initialized Voikko with path: /opt/homebrew/lib/voikko\n",
      "2025-02-20 21:54:21,197 - src.semantic_analyzer.analyzer - INFO - Verifying analyzer configuration:\n",
      "2025-02-20 21:54:21,198 - src.semantic_analyzer.analyzer - INFO - Language: fi\n",
      "2025-02-20 21:54:21,198 - src.semantic_analyzer.analyzer - INFO - Categories loaded: 3\n",
      "2025-02-20 21:54:21,198 - src.semantic_analyzer.analyzer - INFO -   - kirjautumisongelmat: 4 keywords, threshold: 0.6\n",
      "2025-02-20 21:54:21,198 - src.semantic_analyzer.analyzer - INFO -   - järjestelmävirheet: 4 keywords, threshold: 0.6\n",
      "2025-02-20 21:54:21,198 - src.semantic_analyzer.analyzer - INFO -   - dokumentaatio-ongelmat: 4 keywords, threshold: 0.6\n",
      "2025-02-20 21:54:21,199 - src.semantic_analyzer.analyzer - INFO - Language processor: FinnishTextProcessor\n",
      "2025-02-20 21:54:21,199 - src.semantic_analyzer.analyzer - INFO - All analyzers initialized for language: fi\n",
      "2025-02-20 21:54:21,199 - src.semantic_analyzer.analyzer - INFO - Semantic Analyzer initialized successfully\n"
     ]
    }
   ],
   "source": [
    "# Example texts\n",
    "texts = {\n",
    "    #\"en\": \"Machine learning models analyze data efficiently.\",\n",
    "    #\"fi\": \"Koneoppimismallit analysoivat dataa tehokkaasti.\",\n",
    "    \"fi\": \"Onko Python-ohjelmoinnin yrityskoulutuspaketteihin saatavilla ryhmäalennuksia? Meillä on 10 hengen kehittäjätiimi.\"\n",
    "}\n",
    "\n",
    "\n",
    "# Initialize analyzer\n",
    "analyzer = SemanticAnalyzer(\n",
    "    parameter_file=parameter_file,\n",
    "    file_utils=file_utils\n",
    ")\n",
    "\n",
    "async def analyze_text(text: str, language: str):\n",
    "    # Set the language first\n",
    "    analyzer.set_language(language)\n",
    "    \n",
    "    result = await analyzer.analyze(\n",
    "        text=text,\n",
    "        analysis_types=[\"keywords\", \"themes\", \"categories\"]\n",
    "    )\n",
    "    \n",
    "    if result.success:\n",
    "        print(f\"\\nAnalysis results for {language}:\")\n",
    "        print(\"Keywords:\")\n",
    "        for kw in result.keywords.keywords:\n",
    "            print(f\"• {kw.keyword} (score: {kw.score:.2f})\")\n",
    "            \n",
    "        print(\"\\nThemes:\")\n",
    "        for theme in result.themes.themes:\n",
    "            print(f\"• {theme.name} ({theme.confidence:.2f})\")\n",
    "            \n",
    "        if result.categories and result.categories.matches:\n",
    "            print(\"\\nCategories:\")\n",
    "            for cat in result.categories.matches:\n",
    "                print(f\"• {cat.name} ({cat.confidence:.2f})\")\n",
    "    else:\n",
    "        print(f\"Error: {result.error}\")"
   ]
  },
  {
   "cell_type": "code",
   "execution_count": null,
   "metadata": {},
   "outputs": [],
   "source": []
  },
  {
   "cell_type": "markdown",
   "metadata": {},
   "source": [
    "#### Single text analysis\n"
   ]
  },
  {
   "cell_type": "code",
   "execution_count": 7,
   "metadata": {},
   "outputs": [
    {
     "name": "stderr",
     "output_type": "stream",
     "text": [
      "2025-02-20 21:54:21,215 - src.core.language_processing.finnish - INFO - Loaded 747 stopwords from /Users/topi/data-science/repos/text-analyzer/data/config/stop_words/fi.txt\n",
      "2025-02-20 21:54:21,216 - src.core.language_processing.finnish.VoikkoHandler - DEBUG - Initialized with config: {'min_keyword_length': 3, 'include_compounds': True}\n",
      "2025-02-20 21:54:21,216 - src.core.language_processing.finnish.VoikkoHandler - DEBUG - Trying library paths: ['/opt/homebrew/lib/libvoikko.dylib', '/usr/local/lib/libvoikko.dylib']\n",
      "2025-02-20 21:54:21,216 - src.core.language_processing.finnish.VoikkoHandler - DEBUG - Trying dictionary paths: ['/opt/homebrew/lib/voikko', '/usr/local/lib/voikko', '/usr/local/share/voikko']\n",
      "2025-02-20 21:54:21,218 - src.core.language_processing.finnish.VoikkoHandler - INFO - Successfully initialized Voikko with path: /opt/homebrew/lib/voikko\n",
      "2025-02-20 21:54:21,220 - src.core.language_processing.finnish - INFO - Loaded 747 stopwords from /Users/topi/data-science/repos/text-analyzer/data/config/stop_words/fi.txt\n",
      "2025-02-20 21:54:21,220 - src.core.language_processing.finnish.VoikkoHandler - DEBUG - Initialized with config: {'min_keyword_length': 3, 'include_compounds': True}\n",
      "2025-02-20 21:54:21,220 - src.core.language_processing.finnish.VoikkoHandler - DEBUG - Trying library paths: ['/opt/homebrew/lib/libvoikko.dylib', '/usr/local/lib/libvoikko.dylib']\n",
      "2025-02-20 21:54:21,220 - src.core.language_processing.finnish.VoikkoHandler - DEBUG - Trying dictionary paths: ['/opt/homebrew/lib/voikko', '/usr/local/lib/voikko', '/usr/local/share/voikko']\n",
      "2025-02-20 21:54:21,221 - src.core.language_processing.finnish.VoikkoHandler - INFO - Successfully initialized Voikko with path: /opt/homebrew/lib/voikko\n",
      "2025-02-20 21:54:21,238 - src.semantic_analyzer.analyzer - INFO - Verifying analyzer configuration:\n",
      "2025-02-20 21:54:21,239 - src.semantic_analyzer.analyzer - INFO - Language: fi\n",
      "2025-02-20 21:54:21,239 - src.semantic_analyzer.analyzer - INFO - Categories loaded: 3\n",
      "2025-02-20 21:54:21,239 - src.semantic_analyzer.analyzer - INFO -   - kirjautumisongelmat: 4 keywords, threshold: 0.6\n",
      "2025-02-20 21:54:21,239 - src.semantic_analyzer.analyzer - INFO -   - järjestelmävirheet: 4 keywords, threshold: 0.6\n",
      "2025-02-20 21:54:21,240 - src.semantic_analyzer.analyzer - INFO -   - dokumentaatio-ongelmat: 4 keywords, threshold: 0.6\n",
      "2025-02-20 21:54:21,240 - src.semantic_analyzer.analyzer - INFO - Language processor: FinnishTextProcessor\n",
      "2025-02-20 21:54:21,240 - src.semantic_analyzer.analyzer - INFO - All analyzers initialized for language: fi\n",
      "2025-02-20 21:54:21,241 - src.semantic_analyzer.analyzer - INFO - Language switched to fi\n"
     ]
    },
    {
     "name": "stdout",
     "output_type": "stream",
     "text": [
      "\n",
      "=== Single Text Analysis ===\n",
      "\n",
      "Analysis results for fi:\n",
      "Keywords:\n",
      "• Python-ohjelmointi (score: 0.90)\n",
      "• yrityskoulutuspaketti (score: 0.85)\n",
      "• ryhmäalennus (score: 0.80)\n",
      "• kehittäjätiimi (score: 0.75)\n",
      "• henki (score: 0.70)\n",
      "\n",
      "Themes:\n",
      "• Ryhmät ja alennukset (0.90)\n",
      "• Koulutustarpeet (0.85)\n",
      "\n",
      "Categories:\n",
      "• yrityskoulutus (0.85)\n",
      "• koulutus (0.75)\n"
     ]
    }
   ],
   "source": [
    "print(\"\\n=== Single Text Analysis ===\")\n",
    "for lang, text in texts.items():\n",
    "    await analyze_text(text, lang)"
   ]
  },
  {
   "cell_type": "markdown",
   "metadata": {},
   "source": [
    "#### Excel processing\n"
   ]
  },
  {
   "cell_type": "code",
   "execution_count": 8,
   "metadata": {},
   "outputs": [
    {
     "name": "stderr",
     "output_type": "stream",
     "text": [
      "2025-02-20 21:54:28,071 - src.semantic_analyzer.analyzer - INFO - Running analysis types: ['themes', 'categories', 'keywords']\n",
      "Processing rows:   0%|          | 0/4 [00:00<?, ?it/s]"
     ]
    },
    {
     "name": "stdout",
     "output_type": "stream",
     "text": [
      "\n",
      "Processing row 1\n"
     ]
    },
    {
     "name": "stderr",
     "output_type": "stream",
     "text": [
      "Processing rows:  25%|██▌       | 1/4 [00:13<00:40, 13.49s/it]"
     ]
    },
    {
     "name": "stdout",
     "output_type": "stream",
     "text": [
      "✓ Row completed\n",
      "\n",
      "Processing row 2\n"
     ]
    },
    {
     "name": "stderr",
     "output_type": "stream",
     "text": [
      "Processing rows:  50%|█████     | 2/4 [00:25<00:24, 12.36s/it]"
     ]
    },
    {
     "name": "stdout",
     "output_type": "stream",
     "text": [
      "✓ Row completed\n",
      "\n",
      "Processing row 3\n"
     ]
    },
    {
     "name": "stderr",
     "output_type": "stream",
     "text": [
      "Processing rows:  75%|███████▌  | 3/4 [00:35<00:11, 11.65s/it]"
     ]
    },
    {
     "name": "stdout",
     "output_type": "stream",
     "text": [
      "✓ Row completed\n",
      "\n",
      "Processing row 4\n"
     ]
    },
    {
     "name": "stderr",
     "output_type": "stream",
     "text": [
      "Processing rows: 100%|██████████| 4/4 [00:44<00:00, 11.23s/it]\n",
      "2025-02-20 21:55:13,048 - LocalStorage - INFO - Saved Excel file with sheets: ['Analysis Results', 'Summary']\n",
      "2025-02-20 21:55:13,048 - LocalStorage - INFO - Saved Excel file with sheets: ['Analysis Results', 'Summary']\n"
     ]
    },
    {
     "name": "stdout",
     "output_type": "stream",
     "text": [
      "✓ Row completed\n",
      "2025-02-20 21:55:13,049 - FileUtils.core.file_utils - INFO - Data saved successfully: {'results_20250220_215513': '/Users/topi/data-science/repos/text-analyzer/data/processed/results_20250220_215513.xlsx'}\n"
     ]
    },
    {
     "name": "stderr",
     "output_type": "stream",
     "text": [
      "2025-02-20 21:55:13,049 - FileUtils.core.file_utils - INFO - Data saved successfully: {'results_20250220_215513': '/Users/topi/data-science/repos/text-analyzer/data/processed/results_20250220_215513.xlsx'}\n"
     ]
    },
    {
     "name": "stdout",
     "output_type": "stream",
     "text": [
      "\n",
      "Excel analysis completed successfully\n",
      "Results saved to: results.xlsx\n",
      "\n",
      "Analysis Results:\n",
      "                                              themes  \\\n",
      "0  Tekninen ongelma (0.90): Tekstissä kuvataan on...   \n",
      "1  Tekninen ongelma (0.90): Raporttien vientiomin...   \n",
      "2  Virhekoodin ongelmat (0.90): Tekstissä mainita...   \n",
      "3  Access Issues (0.90): The text highlights a pr...   \n",
      "\n",
      "                                          categories  \\\n",
      "0  kirjautumisongelmat (0.90): Tunnistautumis- ja...   \n",
      "1  järjestelmävirheet (0.90): Tekniset virheet ja...   \n",
      "2  järjestelmävirheet (0.90): Tekniset virheet ja...   \n",
      "3  järjestelmävirheet (0.90): Tekniset virheet ja...   \n",
      "\n",
      "                                            keywords  \\\n",
      "0  ongelma (0.90) [teknologia]; kirjautuminen (0....   \n",
      "1  raportti (0.80) [ohjelmointi]; vientiominaisuu...   \n",
      "2  virhekoodi (0.90) [teknologia]; E1234 (0.80) [...   \n",
      "3  API-dokumentaatio (0.90) [teknologia]; kehittä...   \n",
      "\n",
      "                                             content  \\\n",
      "0  Minulla on ongelmia kirjautua hallintapaneelii...   \n",
      "1  Raporttien vientiominaisuus ei toimi. Kun klik...   \n",
      "2  Saan virhekoodin E1234 yrittäessäni synkronoid...   \n",
      "3  En pääse käsiksi API-dokumentaatioon. Kehittäj...   \n",
      "\n",
      "          analysis_timestamp  processing_time language  \n",
      "0 2025-02-20 21:55:13.022103        44.958107       fi  \n",
      "1 2025-02-20 21:55:13.022103        44.958107       fi  \n",
      "2 2025-02-20 21:55:13.022103        44.958107       fi  \n",
      "3 2025-02-20 21:55:13.022103        44.958107       fi  \n"
     ]
    }
   ],
   "source": [
    "# Configure output formatting\n",
    "output_config = ExcelOutputConfig(\n",
    "    output_detail=OutputDetail.MINIMAL,\n",
    "    include_metadata=True,\n",
    "    include_confidence_scores=True\n",
    ")\n",
    "\n",
    "# Analyze Excel file\n",
    "result_df = await analyzer.analyze_excel(\n",
    "    content_file=content_file,\n",
    "    analysis_types=[\"keywords\", \"themes\", \"categories\"],\n",
    "    save_results=True,\n",
    "    output_file=\"results.xlsx\",\n",
    "    output_config=output_config\n",
    ")\n",
    "\n",
    "print(\"\\nExcel analysis completed successfully\")\n",
    "print(f\"Results saved to: results.xlsx\")\n",
    "print(\"\\nAnalysis Results:\")\n",
    "print(result_df)"
   ]
  },
  {
   "cell_type": "code",
   "execution_count": null,
   "metadata": {},
   "outputs": [],
   "source": []
  }
 ],
 "metadata": {
  "kernel_info": {
   "name": "semantic-analyzer"
  },
  "kernelspec": {
   "display_name": "semantic-analyzer",
   "language": "python",
   "name": "python3"
  },
  "language_info": {
   "codemirror_mode": {
    "name": "ipython",
    "version": 3
   },
   "file_extension": ".py",
   "mimetype": "text/x-python",
   "name": "python",
   "nbconvert_exporter": "python",
   "pygments_lexer": "ipython3",
   "version": "3.9.21"
  }
 },
 "nbformat": 4,
 "nbformat_minor": 2
}
