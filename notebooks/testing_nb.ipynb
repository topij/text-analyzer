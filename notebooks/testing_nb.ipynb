{
 "cells": [
  {
   "cell_type": "code",
   "execution_count": 1,
   "metadata": {},
   "outputs": [],
   "source": [
    "# Import required modules\n",
    "import sys\n",
    "from pathlib import Path\n",
    "\n",
    "# Add project root to Python path if needed\n",
    "project_root = str(Path().resolve().parent)\n",
    "if project_root not in sys.path:\n",
    "    sys.path.append(project_root)\n",
    "\n",
    "from src.nb_helpers.nb_environment import (\n",
    "    setup_notebook_environment, \n",
    "    verify_notebook_environment,\n",
    "    display_configuration\n",
    ")\n",
    "\n"
   ]
  },
  {
   "cell_type": "code",
   "execution_count": 2,
   "metadata": {},
   "outputs": [
    {
     "name": "stdout",
     "output_type": "stream",
     "text": [
      "2024-12-15 10:58:45,271 - FileUtils.core.file_utils - INFO - Project root: C:\\Users\\tja\\OneDrive - Rastor-instituutti ry\\Tiedostot\\Rastor-instituutti\\kehittäminen\\analytiikka\\repos\\semantic-text-analyzer\n",
      "2024-12-15 10:58:45,273 - FileUtils.core.file_utils - INFO - FileUtils initialized with local storage\n"
     ]
    },
    {
     "name": "stderr",
     "output_type": "stream",
     "text": [
      "2024-12-15 10:58:45 - src.config.manager - DEBUG [manager.py:  266] - Log file configured at: C:\\Users\\tja\\OneDrive - Rastor-instituutti ry\\Tiedostot\\Rastor-instituutti\\kehittäminen\\analytiikka\\repos\\semantic-text-analyzer\\data\\logs\\app.log\n",
      "2024-12-15 10:58:45 - src.nb_helpers.nb_environment - INFO [nb_environment.py:  59] - Notebook environment set up with root: C:\\Users\\tja\\OneDrive - Rastor-instituutti ry\\Tiedostot\\Rastor-instituutti\\kehittäminen\\analytiikka\\repos\\semantic-text-analyzer\n",
      "2024-12-15 10:58:45 - src.nb_helpers.nb_environment - DEBUG [nb_environment.py:  98] - Using existing initialized components\n",
      "2024-12-15 10:58:45 - src.nb_helpers.nb_environment - INFO [nb_environment.py:  113] - Project structure verified\n",
      "2024-12-15 10:58:45 - src.nb_helpers.nb_environment - INFO [nb_environment.py:  140] - Configuration loading verified\n",
      "2024-12-15 10:58:45 - src.nb_helpers.nb_environment - INFO [nb_environment.py:  144] - Current provider: openai\n",
      "2024-12-15 10:58:45 - src.nb_helpers.nb_environment - INFO [nb_environment.py:  145] - Current model: gpt-4o-mini\n"
     ]
    },
    {
     "name": "stdout",
     "output_type": "stream",
     "text": [
      "\n",
      "Notebook Environment Status:\n",
      "==================================================\n",
      "✓ Project Structure\n",
      "✓ Configuration\n",
      "✓ Environment Vars\n",
      "✓ Directory Structure\n",
      "==================================================\n",
      "Environment ready!\n",
      "\n",
      "Current Configuration:\n",
      "==================================================\n",
      "\n",
      "Provider Settings:\n",
      "Default Provider: openai\n",
      "Default Model: gpt-4o-mini\n",
      "\n",
      "Language Settings:\n",
      "Default Language: en\n",
      "\n",
      "Directory Structure:\n",
      "data/\n",
      " ├── config/\n",
      " ├── interim/\n",
      " ├── logs/\n",
      " ├── parameters/\n",
      " ├── processed/\n",
      " └── raw/\n",
      "docs/\n",
      "models/\n",
      "notebooks/\n",
      "reports/\n",
      "scripts/\n",
      "src/\n",
      "\n",
      "Enabled Features:\n",
      "✓ Enable Compound Detection\n",
      "✓ Enable Finnish Support\n",
      "✗ Enable Spell Check\n",
      "✓ Use Async\n",
      "✓ Use Batching\n",
      "✓ Use Caching\n",
      "==================================================\n"
     ]
    }
   ],
   "source": [
    "# Set up environment once\n",
    "env = setup_notebook_environment(log_level=\"DEBUG\")\n",
    "\n",
    "# Reuse the same components for verification\n",
    "if verify_notebook_environment(initialized_components=env):\n",
    "    print(\"Environment ready!\")\n",
    "\n",
    "# Use the same config_manager for display\n",
    "display_configuration(config_manager=env[\"config_manager\"])"
   ]
  },
  {
   "cell_type": "code",
   "execution_count": 7,
   "metadata": {},
   "outputs": [],
   "source": [
    "# env['analyzer_config'].config"
   ]
  },
  {
   "cell_type": "code",
   "execution_count": null,
   "metadata": {},
   "outputs": [],
   "source": []
  }
 ],
 "metadata": {
  "kernelspec": {
   "display_name": "semantic-analyzer",
   "language": "python",
   "name": "python3"
  },
  "language_info": {
   "codemirror_mode": {
    "name": "ipython",
    "version": 3
   },
   "file_extension": ".py",
   "mimetype": "text/x-python",
   "name": "python",
   "nbconvert_exporter": "python",
   "pygments_lexer": "ipython3",
   "version": "3.9.21"
  }
 },
 "nbformat": 4,
 "nbformat_minor": 2
}
