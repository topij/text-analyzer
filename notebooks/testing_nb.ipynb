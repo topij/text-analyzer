{
 "cells": [
  {
   "cell_type": "code",
   "execution_count": 1,
   "metadata": {},
   "outputs": [],
   "source": [
    "# Import required modules\n",
    "import sys\n",
    "from pathlib import Path\n",
    "# import pandas as pd\n",
    "# from typing import List, Dict, Any\n",
    "# import logging\n",
    "# import asyncio\n",
    "# import logging\n",
    "# from dotenv import load_dotenv\n",
    "\n",
    "# Add project root to Python path if needed\n",
    "project_root = str(Path().resolve().parent)\n",
    "if project_root not in sys.path:\n",
    "    sys.path.append(project_root)"
   ]
  },
  {
   "cell_type": "code",
   "execution_count": 2,
   "metadata": {},
   "outputs": [],
   "source": [
    "# Example notebook usage\n",
    "\n",
    "from src.nb_helpers.nb_environment import (\n",
    "    setup_notebook_environment, \n",
    "    verify_notebook_environment,\n",
    "    display_configuration\n",
    ")"
   ]
  },
  {
   "cell_type": "code",
   "execution_count": 3,
   "metadata": {},
   "outputs": [
    {
     "name": "stdout",
     "output_type": "stream",
     "text": [
      "2024-12-15 00:28:24,591 - FileUtils.core.file_utils - INFO - Project root: C:\\Users\\tja\\OneDrive - Rastor-instituutti ry\\Tiedostot\\Rastor-instituutti\\kehittäminen\\analytiikka\\repos\\semantic-text-analyzer\n",
      "2024-12-15 00:28:24,599 - FileUtils.core.file_utils - INFO - FileUtils initialized with local storage\n",
      "2024-12-15 00:28:24,699 - FileUtils.core.file_utils - INFO - Project root: C:\\Users\\tja\\OneDrive - Rastor-instituutti ry\\Tiedostot\\Rastor-instituutti\\kehittäminen\\analytiikka\\repos\\semantic-text-analyzer\n",
      "2024-12-15 00:28:24,704 - FileUtils.core.file_utils - INFO - FileUtils initialized with local storage\n"
     ]
    },
    {
     "name": "stderr",
     "output_type": "stream",
     "text": [
      "2024-12-15 00:28:24 - src.core.config_management - DEBUG [config_management.py:327] - Log file configured at: C:\\Users\\tja\\OneDrive - Rastor-instituutti ry\\Tiedostot\\Rastor-instituutti\\kehittäminen\\analytiikka\\repos\\semantic-text-analyzer\\data\\logs\\app.log\n",
      "2024-12-15 00:28:24 - src.nb_helpers.nb_environment - INFO [nb_environment.py:74] - Notebook environment set up with root: C:\\Users\\tja\\OneDrive - Rastor-instituutti ry\\Tiedostot\\Rastor-instituutti\\kehittäminen\\analytiikka\\repos\\semantic-text-analyzer\n",
      "2024-12-15 00:28:24 - src.nb_helpers.nb_environment - INFO [nb_environment.py:75] - Data directory: C:\\Users\\tja\\OneDrive - Rastor-instituutti ry\\Tiedostot\\Rastor-instituutti\\kehittäminen\\analytiikka\\repos\\semantic-text-analyzer\\data\n",
      "2024-12-15 00:28:24 - src.nb_helpers.nb_environment - INFO [nb_environment.py:76] - Config directory: C:\\Users\\tja\\OneDrive - Rastor-instituutti ry\\Tiedostot\\Rastor-instituutti\\kehittäminen\\analytiikka\\repos\\semantic-text-analyzer\\data\\config\n",
      "2024-12-15 00:28:24 - src.nb_helpers.nb_environment - INFO [nb_environment.py:77] - Log level: DEBUG\n"
     ]
    }
   ],
   "source": [
    "# Set up environment\n",
    "env = setup_notebook_environment(log_level=\"DEBUG\")\n",
    "file_utils = env[\"file_utils\"]\n",
    "config_manager = env[\"config_manager\"]\n",
    "analyzer_config = env[\"analyzer_config\"]"
   ]
  },
  {
   "cell_type": "code",
   "execution_count": 4,
   "metadata": {},
   "outputs": [
    {
     "name": "stdout",
     "output_type": "stream",
     "text": [
      "2024-12-15 00:28:24,778 - FileUtils.core.file_utils - INFO - Project root: c:\\Users\\tja\\OneDrive - Rastor-instituutti ry\\Tiedostot\\Rastor-instituutti\\kehittäminen\\analytiikka\\repos\\semantic-text-analyzer\n"
     ]
    },
    {
     "name": "stderr",
     "output_type": "stream",
     "text": [
      "2024-12-15 00:28:24 - FileUtils.core.file_utils - INFO [file_utils.py:50] - Project root: c:\\Users\\tja\\OneDrive - Rastor-instituutti ry\\Tiedostot\\Rastor-instituutti\\kehittäminen\\analytiikka\\repos\\semantic-text-analyzer\n"
     ]
    },
    {
     "name": "stdout",
     "output_type": "stream",
     "text": [
      "2024-12-15 00:28:24,786 - FileUtils.core.file_utils - INFO - FileUtils initialized with local storage\n"
     ]
    },
    {
     "name": "stderr",
     "output_type": "stream",
     "text": [
      "2024-12-15 00:28:24 - FileUtils.core.file_utils - INFO [file_utils.py:60] - FileUtils initialized with local storage\n",
      "2024-12-15 00:28:24 - src.core.config_management - DEBUG [config_management.py:220] - Loading configurations from: c:\\Users\\tja\\OneDrive - Rastor-instituutti ry\\Tiedostot\\Rastor-instituutti\\kehittäminen\\analytiikka\\repos\\semantic-text-analyzer\\data\\config\n",
      "2024-12-15 00:28:24 - src.core.config_management - DEBUG [config_management.py:243] - Configuration loaded and validated successfully\n"
     ]
    },
    {
     "name": "stdout",
     "output_type": "stream",
     "text": [
      "2024-12-15 00:28:24,939 - FileUtils.core.file_utils - INFO - Project root: c:\\Users\\tja\\OneDrive - Rastor-instituutti ry\\Tiedostot\\Rastor-instituutti\\kehittäminen\\analytiikka\\repos\\semantic-text-analyzer\n"
     ]
    },
    {
     "name": "stderr",
     "output_type": "stream",
     "text": [
      "2024-12-15 00:28:24 - FileUtils.core.file_utils - INFO [file_utils.py:50] - Project root: c:\\Users\\tja\\OneDrive - Rastor-instituutti ry\\Tiedostot\\Rastor-instituutti\\kehittäminen\\analytiikka\\repos\\semantic-text-analyzer\n"
     ]
    },
    {
     "name": "stdout",
     "output_type": "stream",
     "text": [
      "2024-12-15 00:28:24,947 - FileUtils.core.file_utils - INFO - FileUtils initialized with local storage\n"
     ]
    },
    {
     "name": "stderr",
     "output_type": "stream",
     "text": [
      "2024-12-15 00:28:24 - FileUtils.core.file_utils - INFO [file_utils.py:60] - FileUtils initialized with local storage\n",
      "2024-12-15 00:28:24 - src.core.config_management - DEBUG [config_management.py:167] - Updated FileUtils log level to DEBUG\n",
      "2024-12-15 00:28:24 - src.core.config_management - DEBUG [config_management.py:327] - Log file configured at: c:\\Users\\tja\\OneDrive - Rastor-instituutti ry\\Tiedostot\\Rastor-instituutti\\kehittäminen\\analytiikka\\repos\\semantic-text-analyzer\\data\\logs\\app.log\n",
      "2024-12-15 00:28:24 - src.nb_helpers.nb_environment - INFO [nb_environment.py:125] - Project structure verified\n",
      "2024-12-15 00:28:24 - src.nb_helpers.nb_environment - INFO [nb_environment.py:136] - Configuration loading verified\n",
      "2024-12-15 00:28:24 - src.nb_helpers.nb_environment - INFO [nb_environment.py:159] - Environment variables verified\n"
     ]
    },
    {
     "name": "stdout",
     "output_type": "stream",
     "text": [
      "\n",
      "Notebook Environment Status:\n",
      "==================================================\n",
      "✓ Project Structure\n",
      "✓ Configuration\n",
      "✓ Environment Vars\n",
      "✓ Directory Structure\n",
      "==================================================\n",
      "Environment ready!\n",
      "\n",
      "Current Configuration:\n",
      "==================================================\n",
      "\n",
      "Provider Settings:\n",
      "Default Provider: openai\n",
      "Default Model: gpt-4o-mini\n",
      "\n",
      "Language Settings:\n",
      "Default Language: en\n",
      "\n",
      "Directory Structure:\n",
      "\n",
      "data/\n",
      "  └── config/\n",
      "  └── configurations/\n",
      "  └── external/\n",
      "  └── interim/\n",
      "  └── logs/\n",
      "  └── parameters/\n",
      "  └── processed/\n",
      "  └── raw/\n",
      "\n",
      "reports/\n",
      "  └── figures/\n",
      "  └── outputs/\n",
      "  └── tables/\n",
      "\n",
      "models/\n",
      "  └── evaluations/\n",
      "  └── trained/\n",
      "\n",
      "src/\n",
      "  └── __pycache__/\n",
      "  └── analyzers/\n",
      "  └── az_helpers/\n",
      "  └── config/\n",
      "  └── core/\n",
      "  └── excel_analysis/\n",
      "  └── formatters/\n",
      "  └── loaders/\n",
      "  └── models/\n",
      "  └── nb_helpers/\n",
      "  └── notebooks/\n",
      "  └── scripts/\n",
      "  └── semantic_analyzer/\n",
      "  └── semantic_text_analyzer.egg-info/\n",
      "  └── utils/\n",
      "\n",
      "Enabled Features:\n",
      "✓ Use Caching\n",
      "✓ Use Async\n",
      "✓ Use Batching\n",
      "✓ Enable Finnish Support\n",
      "✓ Enable Compound Detection\n",
      "✗ Enable Spell Check\n",
      "==================================================\n"
     ]
    }
   ],
   "source": [
    "# Verify setup\n",
    "if verify_notebook_environment():\n",
    "    print(\"Environment ready!\")\n",
    "    \n",
    "# Display current configuration\n",
    "display_configuration(config_manager)"
   ]
  },
  {
   "cell_type": "code",
   "execution_count": 5,
   "metadata": {},
   "outputs": [
    {
     "data": {
      "text/plain": [
       "{'environment': 'development',\n",
       " 'logging': {'level': 'DEBUG',\n",
       "  'format': '%(asctime)s - %(name)s - %(levelname)s - %(message)s',\n",
       "  'date_format': '%Y-%m-%d %H:%M:%S',\n",
       "  'file_path': 'notebook.log',\n",
       "  'disable_existing_loggers': False},\n",
       " 'models': {'default_provider': 'openai',\n",
       "  'default_model': 'gpt-4o-mini',\n",
       "  'parameters': {'temperature': 0.0,\n",
       "   'max_tokens': 1000,\n",
       "   'top_p': 1.0,\n",
       "   'frequency_penalty': 0.0,\n",
       "   'presence_penalty': 0.0},\n",
       "  'providers': {'openai': {'available_models': {'gpt-4': {'description': 'Most capable model, best for complex tasks',\n",
       "      'max_tokens': 8192,\n",
       "      'supports_functions': True},\n",
       "     'gpt-4-turbo': {'description': 'Faster GPT-4 variant',\n",
       "      'max_tokens': 4096,\n",
       "      'supports_functions': True},\n",
       "     'gpt-4o-mini': {'description': 'Fast and cost-effective for simpler tasks',\n",
       "      'max_tokens': 4096,\n",
       "      'supports_functions': True}},\n",
       "    'api_type': 'open_ai',\n",
       "    'api_version': None},\n",
       "   'azure': {'available_models': {'gpt-4o-mini': {'description': 'Azure OpenAI GPT-4o-mini deployment',\n",
       "      'deployment_name': 'gpt-4o-mini',\n",
       "      'max_tokens': 4096,\n",
       "      'supports_functions': True}},\n",
       "    'api_type': 'openai',\n",
       "    'api_version': '2024-08-01-preview'},\n",
       "   'anthropic': {'available_models': {'claude-3-opus': {'description': 'Most capable Claude model',\n",
       "      'max_tokens': 200000,\n",
       "      'supports_functions': False},\n",
       "     'claude-3-sonnet': {'description': 'Balanced performance and speed',\n",
       "      'max_tokens': 200000,\n",
       "      'supports_functions': False},\n",
       "     'claude-3-haiku': {'description': 'Fastest Claude model',\n",
       "      'max_tokens': 200000,\n",
       "      'supports_functions': False}},\n",
       "    'api_type': 'anthropic',\n",
       "    'api_version': None}}},\n",
       " 'languages': {'default_language': 'en', 'languages': {}},\n",
       " 'features': {'use_caching': True,\n",
       "  'use_async': True,\n",
       "  'use_batching': True,\n",
       "  'enable_finnish_support': True,\n",
       "  'enable_compound_detection': True,\n",
       "  'enable_spell_check': False}}"
      ]
     },
     "execution_count": 5,
     "metadata": {},
     "output_type": "execute_result"
    }
   ],
   "source": [
    "env['analyzer_config'].config"
   ]
  }
 ],
 "metadata": {
  "kernelspec": {
   "display_name": "semantic-analyzer",
   "language": "python",
   "name": "python3"
  },
  "language_info": {
   "codemirror_mode": {
    "name": "ipython",
    "version": 3
   },
   "file_extension": ".py",
   "mimetype": "text/x-python",
   "name": "python",
   "nbconvert_exporter": "python",
   "pygments_lexer": "ipython3",
   "version": "3.9.21"
  }
 },
 "nbformat": 4,
 "nbformat_minor": 2
}
