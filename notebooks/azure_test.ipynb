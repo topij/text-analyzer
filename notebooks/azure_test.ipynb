{
  "cells": [
    {
      "cell_type": "code",
      "source": [
        "from FileUtils import FileUtils\n"
      ],
      "outputs": [],
      "execution_count": 1,
      "metadata": {
        "gather": {
          "logged": 1733674667235
        }
      }
    },
    {
      "cell_type": "code",
      "source": [
        "AZURE_STORAGE_CONNECTION_STRING=\"DefaultEndpointsProtocol=https;EndpointSuffix=core.windows.net;AccountName=rifeedbackml7534979049;AccountKey=F3QkZr5mbjiitdgfU4npaINOYLl2QE3Uo/9A2BfKp4KEaNXjfxPYJzyyeN0t8tigV6mL/s3idi3/+AStRy93Lw==;BlobEndpoint=https://rifeedbackml7534979049.blob.core.windows.net/;FileEndpoint=https://rifeedbackml7534979049.file.core.windows.net/;QueueEndpoint=https://rifeedbackml7534979049.queue.core.windows.net/;TableEndpoint=https://rifeedbackml7534979049.table.core.windows.net/\"\n"
      ],
      "outputs": [],
      "execution_count": 2,
      "metadata": {
        "jupyter": {
          "source_hidden": false,
          "outputs_hidden": false
        },
        "nteract": {
          "transient": {
            "deleting": false
          }
        },
        "gather": {
          "logged": 1733674667420
        }
      }
    },
    {
      "cell_type": "code",
      "source": [
        "file_utils_local = FileUtils(storage_type=\"local\", connection_string=AZURE_STORAGE_CONNECTION_STRING)"
      ],
      "outputs": [
        {
          "output_type": "stream",
          "name": "stdout",
          "text": "2024-12-08 16:17:47,056 - FileUtils.core.file_utils - INFO - Project root: /mnt/batch/tasks/shared/LS_root/mounts/clusters/basic-cpu/code/Users/topi.jarvinen/semantic-text-analyzer\n2024-12-08 16:17:47,096 - FileUtils.core.file_utils - INFO - FileUtils initialized with local storage\n"
        }
      ],
      "execution_count": 3,
      "metadata": {
        "jupyter": {
          "source_hidden": false,
          "outputs_hidden": false
        },
        "nteract": {
          "transient": {
            "deleting": false
          }
        },
        "gather": {
          "logged": 1733674667607
        }
      }
    },
    {
      "cell_type": "code",
      "source": [
        "file_utils_azure = FileUtils(storage_type=\"azure\", connection_string=AZURE_STORAGE_CONNECTION_STRING)"
      ],
      "outputs": [
        {
          "output_type": "stream",
          "name": "stdout",
          "text": "2024-12-08 16:17:47,177 - FileUtils.core.file_utils - INFO - Project root: /mnt/batch/tasks/shared/LS_root/mounts/clusters/basic-cpu/code/Users/topi.jarvinen/semantic-text-analyzer\n2024-12-08 16:17:47,188 - FileUtils.core.file_utils - INFO - FileUtils initialized with azure storage\n"
        }
      ],
      "execution_count": 4,
      "metadata": {
        "jupyter": {
          "source_hidden": false,
          "outputs_hidden": false
        },
        "nteract": {
          "transient": {
            "deleting": false
          }
        },
        "gather": {
          "logged": 1733674667769
        }
      }
    },
    {
      "cell_type": "code",
      "source": [
        "dir(FileUtils)"
      ],
      "outputs": [
        {
          "output_type": "execute_result",
          "execution_count": 5,
          "data": {
            "text/plain": "['__class__',\n '__delattr__',\n '__dict__',\n '__dir__',\n '__doc__',\n '__eq__',\n '__format__',\n '__ge__',\n '__getattribute__',\n '__gt__',\n '__hash__',\n '__init__',\n '__init_subclass__',\n '__le__',\n '__lt__',\n '__module__',\n '__ne__',\n '__new__',\n '__reduce__',\n '__reduce_ex__',\n '__repr__',\n '__setattr__',\n '__sizeof__',\n '__str__',\n '__subclasshook__',\n '__weakref__',\n '_create_storage',\n '_get_project_root',\n '_setup_directory_structure',\n 'get_data_path',\n 'load_excel_sheets',\n 'load_from_metadata',\n 'load_multiple_files',\n 'load_single_file',\n 'save_data_to_disk',\n 'save_data_to_storage',\n 'save_with_metadata']"
          },
          "metadata": {}
        }
      ],
      "execution_count": 5,
      "metadata": {
        "jupyter": {
          "source_hidden": false,
          "outputs_hidden": false
        },
        "nteract": {
          "transient": {
            "deleting": false
          }
        },
        "gather": {
          "logged": 1733674667962
        }
      }
    },
    {
      "cell_type": "code",
      "source": [
        "from pathlib import Path\n",
        "scripts_dir = Path.cwd() / \"scripts\" / \"azure\"\n",
        "print(f\"Looking for script in: {scripts_dir}\")\n",
        "print(f\"Script exists: {(scripts_dir / 'setup_voikko.sh').exists()}\")"
      ],
      "outputs": [
        {
          "output_type": "stream",
          "name": "stdout",
          "text": "Looking for script in: /mnt/batch/tasks/shared/LS_root/mounts/clusters/basic-cpu/code/Users/topi.jarvinen/semantic-text-analyzer/notebooks/scripts/azure\nScript exists: False\n"
        }
      ],
      "execution_count": 15,
      "metadata": {
        "jupyter": {
          "source_hidden": false,
          "outputs_hidden": false
        },
        "nteract": {
          "transient": {
            "deleting": false
          }
        },
        "gather": {
          "logged": 1733674893320
        }
      }
    },
    {
      "cell_type": "code",
      "source": [],
      "outputs": [],
      "execution_count": null,
      "metadata": {
        "jupyter": {
          "source_hidden": false,
          "outputs_hidden": false
        },
        "nteract": {
          "transient": {
            "deleting": false
          }
        }
      }
    },
    {
      "cell_type": "code",
      "source": [
        "import logging\n",
        "import sys\n",
        "from pathlib import Path\n",
        "\n",
        "# Configure detailed logging\n",
        "logging.basicConfig(\n",
        "    level=logging.DEBUG,\n",
        "    format='%(asctime)s - %(name)s - %(levelname)s - %(message)s'\n",
        ")\n",
        "\n",
        "# Get project root (you already have this)\n",
        "project_root = Path().resolve().parent\n",
        "print(project_root)\n",
        "# Add project root to Python path if needed\n",
        "# project_root = str(Path().resolve().parent)\n",
        "if project_root not in sys.path:\n",
        "    sys.path.append(project_root)\n",
        "print(sys.path)"
      ],
      "outputs": [
        {
          "output_type": "stream",
          "name": "stdout",
          "text": "/mnt/batch/tasks/shared/LS_root/mounts/clusters/basic-cpu/code/Users/topi.jarvinen/semantic-text-analyzer\n['/anaconda/envs/semantic-analyzer/lib/python39.zip', '/anaconda/envs/semantic-analyzer/lib/python3.9', '/anaconda/envs/semantic-analyzer/lib/python3.9/lib-dynload', '', '/anaconda/envs/semantic-analyzer/lib/python3.9/site-packages', PosixPath('/mnt/batch/tasks/shared/LS_root/mounts/clusters/basic-cpu/code/Users/topi.jarvinen/semantic-text-analyzer')]\n"
        }
      ],
      "execution_count": 23,
      "metadata": {
        "jupyter": {
          "source_hidden": false,
          "outputs_hidden": false
        },
        "nteract": {
          "transient": {
            "deleting": false
          }
        },
        "gather": {
          "logged": 1733675755533
        }
      }
    },
    {
      "cell_type": "code",
      "source": [
        "# Reset logging configuration for Voikko setup\n",
        "logging.getLogger().setLevel(logging.DEBUG)\n",
        "for handler in logging.getLogger().handlers:\n",
        "    handler.setLevel(logging.DEBUG)\n",
        "\n",
        "# Also set debug level specifically for the setup helper logger\n",
        "logging.getLogger(\"scripts.azure.setup_helpers\").setLevel(logging.DEBUG)\n",
        "\n",
        "from scripts.azure.setup_helpers import setup_voikko\n",
        "\n",
        "# Run setup with explicit project root\n",
        "if setup_voikko(project_root=project_root):\n",
        "    print(\"Voikko ready\")\n",
        "else:\n",
        "    print(\"Using fallback mode\")"
      ],
      "outputs": [
        {
          "output_type": "error",
          "ename": "ModuleNotFoundError",
          "evalue": "No module named 'scripts'",
          "traceback": [
            "\u001b[0;31m---------------------------------------------------------------------------\u001b[0m",
            "\u001b[0;31mModuleNotFoundError\u001b[0m                       Traceback (most recent call last)",
            "Cell \u001b[0;32mIn[24], line 9\u001b[0m\n\u001b[1;32m      6\u001b[0m \u001b[38;5;66;03m# Also set debug level specifically for the setup helper logger\u001b[39;00m\n\u001b[1;32m      7\u001b[0m logging\u001b[38;5;241m.\u001b[39mgetLogger(\u001b[38;5;124m\"\u001b[39m\u001b[38;5;124mscripts.azure.setup_helpers\u001b[39m\u001b[38;5;124m\"\u001b[39m)\u001b[38;5;241m.\u001b[39msetLevel(logging\u001b[38;5;241m.\u001b[39mDEBUG)\n\u001b[0;32m----> 9\u001b[0m \u001b[38;5;28;01mfrom\u001b[39;00m \u001b[38;5;21;01mscripts\u001b[39;00m\u001b[38;5;21;01m.\u001b[39;00m\u001b[38;5;21;01mazure\u001b[39;00m\u001b[38;5;21;01m.\u001b[39;00m\u001b[38;5;21;01msetup_helpers\u001b[39;00m \u001b[38;5;28;01mimport\u001b[39;00m setup_voikko\n\u001b[1;32m     11\u001b[0m \u001b[38;5;66;03m# Run setup with explicit project root\u001b[39;00m\n\u001b[1;32m     12\u001b[0m \u001b[38;5;28;01mif\u001b[39;00m setup_voikko(project_root\u001b[38;5;241m=\u001b[39mproject_root):\n",
            "\u001b[0;31mModuleNotFoundError\u001b[0m: No module named 'scripts'"
          ]
        }
      ],
      "execution_count": 24,
      "metadata": {
        "jupyter": {
          "source_hidden": false,
          "outputs_hidden": false
        },
        "nteract": {
          "transient": {
            "deleting": false
          }
        },
        "gather": {
          "logged": 1733676258359
        }
      }
    }
  ],
  "metadata": {
    "kernelspec": {
      "name": "semantic-analyzer",
      "language": "python",
      "display_name": "Python (semantic-analyzer)"
    },
    "language_info": {
      "name": "python",
      "version": "3.9.21",
      "mimetype": "text/x-python",
      "codemirror_mode": {
        "name": "ipython",
        "version": 3
      },
      "pygments_lexer": "ipython3",
      "nbconvert_exporter": "python",
      "file_extension": ".py"
    },
    "microsoft": {
      "ms_spell_check": {
        "ms_spell_check_language": "en"
      },
      "host": {
        "AzureML": {
          "notebookHasBeenCompleted": true
        }
      }
    },
    "kernel_info": {
      "name": "semantic-analyzer"
    },
    "nteract": {
      "version": "nteract-front-end@1.0.0"
    }
  },
  "nbformat": 4,
  "nbformat_minor": 2
}