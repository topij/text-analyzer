{
 "cells": [
  {
   "cell_type": "markdown",
   "metadata": {},
   "source": [
    "# Semantic Analysis Pipeline\n",
    "\n",
    "This notebook demonstrates the semantic text analysis capabilities using our custom analyzers.\n",
    "\n",
    "## Setup\n",
    "Import required packages and configure the environment:\n",
    "\n"
   ]
  },
  {
   "cell_type": "code",
   "execution_count": 1,
   "metadata": {},
   "outputs": [],
   "source": [
    "# import os\n",
    "import sys\n",
    "from pathlib import Path\n",
    "# import asyncio\n",
    "# import json\n",
    "# import logging\n",
    "# from typing import Dict, Any, List, Tuple, Optional\n",
    "# from pprint import pprint\n",
    "\n",
    "# import pandas as pd\n"
   ]
  },
  {
   "cell_type": "code",
   "execution_count": null,
   "metadata": {},
   "outputs": [],
   "source": [
    "# Add project root to Python path\n",
    "project_root = str(Path().resolve().parent)\n",
    "if project_root not in sys.path:\n",
    "    sys.path.append(project_root)\n",
    "    print(f\"Added {project_root} to Python path\")"
   ]
  },
  {
   "cell_type": "code",
   "execution_count": 2,
   "metadata": {},
   "outputs": [
    {
     "ename": "ModuleNotFoundError",
     "evalue": "No module named 'src'",
     "output_type": "error",
     "traceback": [
      "\u001b[1;31m---------------------------------------------------------------------------\u001b[0m",
      "\u001b[1;31mModuleNotFoundError\u001b[0m                       Traceback (most recent call last)",
      "Cell \u001b[1;32mIn[2], line 2\u001b[0m\n\u001b[0;32m      1\u001b[0m \u001b[38;5;66;03m# First set up environment\u001b[39;00m\n\u001b[1;32m----> 2\u001b[0m \u001b[38;5;28;01mfrom\u001b[39;00m \u001b[38;5;21;01msrc\u001b[39;00m\u001b[38;5;21;01m.\u001b[39;00m\u001b[38;5;21;01mnb_helpers\u001b[39;00m\u001b[38;5;21;01m.\u001b[39;00m\u001b[38;5;21;01menvironment\u001b[39;00m \u001b[38;5;28;01mimport\u001b[39;00m setup_notebook_env, verify_environment\n\u001b[0;32m      3\u001b[0m setup_notebook_env()\n\u001b[0;32m      5\u001b[0m \u001b[38;5;66;03m# Configure logging BEFORE importing analyzers\u001b[39;00m\n",
      "\u001b[1;31mModuleNotFoundError\u001b[0m: No module named 'src'"
     ]
    }
   ],
   "source": [
    "# First set up environment\n",
    "from src.nb_helpers.environment import setup_notebook_env, verify_environment\n",
    "setup_notebook_env()\n",
    "\n",
    "# Configure logging BEFORE importing analyzers\n",
    "from src.nb_helpers.logging import configure_logging\n",
    "configure_logging(level=\"DEBUG\")"
   ]
  },
  {
   "cell_type": "code",
   "execution_count": null,
   "metadata": {},
   "outputs": [],
   "source": [
    "from src.nb_helpers.debug import (\n",
    "    debug_theme_analysis,\n",
    "    debug_category_analysis,\n",
    "    debug_keyword_analysis,\n",
    "    debug_full_pipeline\n",
    ")\n",
    "from src.nb_helpers.excel import analyze_excel_content"
   ]
  },
  {
   "cell_type": "markdown",
   "metadata": {},
   "source": [
    "TODO:\n",
    "- define language\n",
    "- fix logging\n",
    "- compound words"
   ]
  },
  {
   "cell_type": "markdown",
   "metadata": {},
   "source": [
    "### Import notebook helper files"
   ]
  },
  {
   "cell_type": "code",
   "execution_count": null,
   "metadata": {},
   "outputs": [],
   "source": []
  },
  {
   "cell_type": "code",
   "execution_count": 12,
   "metadata": {},
   "outputs": [],
   "source": [
    "# Setup environment and logging\n",
    "setup_notebook_env()\n"
   ]
  },
  {
   "cell_type": "code",
   "execution_count": 13,
   "metadata": {},
   "outputs": [
    {
     "name": "stdout",
     "output_type": "stream",
     "text": [
      "Environment Check Results:\n",
      "==================================================\n",
      "\n",
      "Basic Setup:\n",
      "-----------\n",
      "✓ Project root in path\n",
      "✓ FileUtils initialized\n",
      "✓ .env file loaded\n",
      "\n",
      "Environment Variables:\n",
      "---------------------\n",
      "✓ OPENAI_API_KEY set\n",
      "✓ ANTHROPIC_API_KEY set\n",
      "\n",
      "Project Structure:\n",
      "-----------------\n",
      "✓ Raw data exists\n",
      "✓ Processed data exists\n",
      "✓ Configuration exists\n",
      "✓ Main config.yaml exists\n",
      "\n",
      "==================================================\n",
      "Environment Status: Ready ✓\n"
     ]
    },
    {
     "data": {
      "text/plain": [
       "True"
      ]
     },
     "execution_count": 13,
     "metadata": {},
     "output_type": "execute_result"
    }
   ],
   "source": [
    "verify_environment()\n"
   ]
  },
  {
   "cell_type": "code",
   "execution_count": 14,
   "metadata": {},
   "outputs": [],
   "source": [
    "configure_logging(level=\"DEBUG\")"
   ]
  },
  {
   "cell_type": "markdown",
   "metadata": {},
   "source": [
    "## Analysis Functions\n",
    "\n",
    "### Single Analysis with Debug Output\n",
    "Run detailed analysis for a single text:\n"
   ]
  },
  {
   "cell_type": "code",
   "execution_count": 15,
   "metadata": {},
   "outputs": [],
   "source": [
    "example_texts = {\n",
    "    \"Business Analysis\": \"\"\"\n",
    "        Q3 revenue increased by 15% with strong growth in enterprise sales.\n",
    "        Customer retention improved while acquisition costs decreased.\n",
    "        New market expansion initiatives are showing positive early results.\n",
    "    \"\"\",\n",
    "    \n",
    "    \"Technical Content\": \"\"\"\n",
    "        The application uses microservices architecture with containerized deployments.\n",
    "        Data processing pipeline incorporates machine learning models for prediction.\n",
    "        System monitoring ensures high availability and performance metrics.\n",
    "    \"\"\",\n",
    "    \n",
    "    \"Mixed Content\": \"\"\"\n",
    "        The IT department's cloud migration project reduced infrastructure costs by 25%.\n",
    "        DevOps implementation improved deployment frequency while maintaining quality.\n",
    "        Monthly recurring revenue from SaaS products grew steadily.\n",
    "    \"\"\",\n",
    "    \"koulutussisältö\":\n",
    "    \"\"\"\n",
    "        Verkko-oppimisalusta sisältää interaktiivisia moduuleja ja oman tahdin edistymisen seurannan. \n",
    "        Virtuaaliluokat mahdollistavat reaaliaikaisen yhteistyön opiskelijoiden ja ohjaajien välillä. \n",
    "        Digitaaliset arviointityökalut antavat välitöntä palautetta oppimistuloksista.\n",
    "    \"\"\",\n",
    "    \"tekninen_sisältö\":\n",
    "    \"\"\"\n",
    "        Koneoppimismalleja koulutetaan suurilla datajoukolla tunnistamaan kaavoja. \n",
    "        Neuroverkon arkkitehtuuri sisältää useita kerroksia piirteiden erottamiseen. \n",
    "        Datan esikäsittely ja piirteiden suunnittelu ovat keskeisiä vaiheita prosessissa.\n",
    "\n",
    "    \"\"\"\n",
    "}"
   ]
  },
  {
   "cell_type": "code",
   "execution_count": 16,
   "metadata": {},
   "outputs": [],
   "source": [
    "text = example_texts[\"Mixed Content\"]\n",
    "# text = example_texts[\"koulutussisältö\"]\n",
    "# Debug specific analyzer\n"
   ]
  },
  {
   "cell_type": "code",
   "execution_count": null,
   "metadata": {},
   "outputs": [
    {
     "name": "stdout",
     "output_type": "stream",
     "text": [
      "\n",
      "Debug Theme Analysis\n",
      "==================================================\n",
      "\n",
      "Input Text:\n",
      "--------------------\n",
      "The IT department's cloud migration project reduced infrastructure costs by 25%.\n",
      "        DevOps implementation improved deployment frequency while maintaining quality.\n",
      "        Monthly recurring revenue from SaaS products grew steadily.\n",
      "\n",
      "Running Analysis...\n",
      "--------------------\n"
     ]
    }
   ],
   "source": [
    "await debug_theme_analysis(text)\n"
   ]
  },
  {
   "cell_type": "code",
   "execution_count": null,
   "metadata": {},
   "outputs": [
    {
     "name": "stdout",
     "output_type": "stream",
     "text": [
      "\n",
      "Debug Category Analysis\n",
      "==================================================\n",
      "\n",
      "Input Text:\n",
      "--------------------\n",
      "The IT department's cloud migration project reduced infrastructure costs by 25%.\n",
      "        DevOps implementation improved deployment frequency while maintaining quality.\n",
      "        Monthly recurring revenue from SaaS products grew steadily.\n",
      "\n",
      "Running Analysis...\n",
      "--------------------\n",
      "\n",
      "Categories Found:\n",
      "\n",
      "  • technical\n",
      "    Confidence: [█████████████████░░░] (0.85)\n",
      "    The text discusses a cloud migration project and DevOps implementation, both of which are technical processes related to software development and system management.\n",
      "    Evidence:\n",
      "      - cloud migration project\n",
      "      - DevOps implementation\n",
      "      - improved deployment frequency\n",
      "\n",
      "  • business\n",
      "    Confidence: [███████████████░░░░░] (0.75)\n",
      "    The text mentions reduced infrastructure costs and growth in monthly recurring revenue, which are key indicators of business performance and financial health.\n",
      "    Evidence:\n",
      "      - reduced infrastructure costs by 25%\n",
      "      - monthly recurring revenue from SaaS products grew steadily\n",
      "\n",
      "Debug Information:\n",
      "--------------------\n",
      "\n",
      "Confidence Statistics:\n",
      "  Average: 0.80\n",
      "  Max: 0.85\n",
      "  Min: 0.75\n",
      "\n",
      "Raw Analysis Data:\n",
      "{\n",
      "  \"language\": \"en\",\n",
      "  \"error\": null,\n",
      "  \"success\": true,\n",
      "  \"categories\": [\n",
      "    {\n",
      "      \"name\": \"technical\",\n",
      "      \"confidence\": 0.85,\n",
      "      \"explanation\": \"The text discusses a cloud migration project and DevOps implementation, both of which are technical processes related to software development and system management.\",\n",
      "      \"evidence\": [\n",
      "        \"cloud migration project\",\n",
      "        \"DevOps implementation\",\n",
      "        \"improved deployment frequency\"\n",
      "      ],\n",
      "      \"themes\": [\n",
      "        \"cloud computing\",\n",
      "        \"DevOps\",\n",
      "        \"infrastructure management\"\n",
      "      ]\n",
      "    },\n",
      "    {\n",
      "      \"name\": \"business\",\n",
      "      \"confidence\": 0.75,\n",
      "      \"explanation\": \"The text mentions reduced infrastructure costs and growth in monthly recurring revenue, which are key indicators of business performance and financial health.\",\n",
      "      \"evidence\": [\n",
      "        \"reduced infrastructure costs by 25%\",\n",
      "        \"monthly recurring revenue from SaaS products grew steadily\"\n",
      "      ],\n",
      "      \"themes\": [\n",
      "        \"cost reduction\",\n",
      "        \"revenue growth\",\n",
      "        \"SaaS business model\"\n",
      "      ]\n",
      "    }\n",
      "  ],\n",
      "  \"explanations\": {\n",
      "    \"technical\": \"The text discusses a cloud migration project and DevOps implementation, both of which are technical processes related to software development and system management.\",\n",
      "    \"business\": \"The text mentions reduced infrastructure costs and growth in monthly recurring revenue, which are key indicators of business performance and financial health.\"\n",
      "  },\n",
      "  \"evidence\": {\n",
      "    \"technical\": [\n",
      "      \"cloud migration project\",\n",
      "      \"DevOps implementation\",\n",
      "      \"improved deployment frequency\"\n",
      "    ],\n",
      "    \"business\": [\n",
      "      \"reduced infrastructure costs by 25%\",\n",
      "      \"monthly recurring revenue from SaaS products grew steadily\"\n",
      "    ]\n",
      "  }\n",
      "}\n"
     ]
    },
    {
     "data": {
      "text/plain": [
       "CategoryOutput(language='en', error=None, success=True, categories=[CategoryInfo(name='technical', confidence=0.85, explanation='The text discusses a cloud migration project and DevOps implementation, both of which are technical processes related to software development and system management.', evidence=['cloud migration project', 'DevOps implementation', 'improved deployment frequency'], themes=['cloud computing', 'DevOps', 'infrastructure management']), CategoryInfo(name='business', confidence=0.75, explanation='The text mentions reduced infrastructure costs and growth in monthly recurring revenue, which are key indicators of business performance and financial health.', evidence=['reduced infrastructure costs by 25%', 'monthly recurring revenue from SaaS products grew steadily'], themes=['cost reduction', 'revenue growth', 'SaaS business model'])], explanations={'technical': 'The text discusses a cloud migration project and DevOps implementation, both of which are technical processes related to software development and system management.', 'business': 'The text mentions reduced infrastructure costs and growth in monthly recurring revenue, which are key indicators of business performance and financial health.'}, evidence={'technical': ['cloud migration project', 'DevOps implementation', 'improved deployment frequency'], 'business': ['reduced infrastructure costs by 25%', 'monthly recurring revenue from SaaS products grew steadily']})"
      ]
     },
     "execution_count": 10,
     "metadata": {},
     "output_type": "execute_result"
    }
   ],
   "source": [
    "await debug_category_analysis(text)\n"
   ]
  },
  {
   "cell_type": "code",
   "execution_count": 17,
   "metadata": {},
   "outputs": [
    {
     "name": "stdout",
     "output_type": "stream",
     "text": [
      "\n",
      "Debug Keyword Analysis\n",
      "==================================================\n",
      "\n",
      "Input Text:\n",
      "--------------------\n",
      "The IT department's cloud migration project reduced infrastructure costs by 25%.\n",
      "        DevOps implementation improved deployment frequency while maintaining quality.\n",
      "        Monthly recurring revenue from SaaS products grew steadily.\n",
      "\n",
      "Running Analysis...\n",
      "--------------------\n"
     ]
    },
    {
     "name": "stderr",
     "output_type": "stream",
     "text": [
      "2024-11-14 21:35:55 - src.core.language_processing.factory - INFO - Using default configuration\n",
      "2024-11-14 21:35:55 - src.core.language_processing.english - INFO - Initialized English processor with 831 stopwords\n",
      "2024-11-14 21:35:55 - src.core.language_processing.english - INFO - Initialized English processor with 831 stopwords\n"
     ]
    },
    {
     "name": "stdout",
     "output_type": "stream",
     "text": [
      "\n",
      "Keywords Found:\n",
      "  • cloud migration      [█████████████░░░░░░░] (0.68)\n",
      "  • infrastructure costs [████████████░░░░░░░░] (0.65)\n",
      "  • DevOps implementation [████████████░░░░░░░░] (0.61)\n",
      "  • deployment frequency [███████████░░░░░░░░░] (0.58)\n",
      "  • monthly recurring revenue [██████████░░░░░░░░░░] (0.54)\n",
      "  • SaaS products        [██████████░░░░░░░░░░] (0.50)\n",
      "  • department           [█████████░░░░░░░░░░░] (0.48)\n",
      "  • migration            [█████████░░░░░░░░░░░] (0.48)\n",
      "  • project              [█████████░░░░░░░░░░░] (0.48)\n",
      "  • reduce               [█████████░░░░░░░░░░░] (0.48)\n",
      "\n",
      "Debug Information:\n",
      "--------------------\n",
      "\n",
      "Confidence Statistics:\n",
      "  Average: 0.55\n",
      "  Max: 0.68\n",
      "  Min: 0.48\n",
      "\n",
      "Raw Analysis Data:\n",
      "{\n",
      "  \"keywords\": [\n",
      "    {\n",
      "      \"keyword\": \"cloud migration\",\n",
      "      \"score\": 0.6839999999999999,\n",
      "      \"domain\": \"technical\",\n",
      "      \"compound_parts\": null\n",
      "    },\n",
      "    {\n",
      "      \"keyword\": \"infrastructure costs\",\n",
      "      \"score\": 0.648,\n",
      "      \"domain\": \"business\",\n",
      "      \"compound_parts\": null\n",
      "    },\n",
      "    {\n",
      "      \"keyword\": \"DevOps implementation\",\n",
      "      \"score\": 0.612,\n",
      "      \"domain\": \"technical\",\n",
      "      \"compound_parts\": null\n",
      "    },\n",
      "    {\n",
      "      \"keyword\": \"deployment frequency\",\n",
      "      \"score\": 0.576,\n",
      "      \"domain\": \"technical\",\n",
      "      \"compound_parts\": null\n",
      "    },\n",
      "    {\n",
      "      \"keyword\": \"monthly recurring revenue\",\n",
      "      \"score\": 0.5399999999999999,\n",
      "      \"domain\": \"business\",\n",
      "      \"compound_parts\": null\n",
      "    },\n",
      "    {\n",
      "      \"keyword\": \"SaaS products\",\n",
      "      \"score\": 0.504,\n",
      "      \"domain\": \"business\",\n",
      "      \"compound_parts\": null\n",
      "    },\n",
      "    {\n",
      "      \"keyword\": \"department\",\n",
      "      \"score\": 0.48,\n",
      "      \"domain\": null,\n",
      "      \"compound_parts\": null\n",
      "    },\n",
      "    {\n",
      "      \"keyword\": \"migration\",\n",
      "      \"score\": 0.48,\n",
      "      \"domain\": null,\n",
      "      \"compound_parts\": null\n",
      "    },\n",
      "    {\n",
      "      \"keyword\": \"project\",\n",
      "      \"score\": 0.48,\n",
      "      \"domain\": null,\n",
      "      \"compound_parts\": null\n",
      "    },\n",
      "    {\n",
      "      \"keyword\": \"reduce\",\n",
      "      \"score\": 0.48,\n",
      "      \"domain\": null,\n",
      "      \"compound_parts\": null\n",
      "    }\n",
      "  ],\n",
      "  \"compound_words\": [],\n",
      "  \"domain_keywords\": {\n",
      "    \"technical\": [\n",
      "      \"cloud migration\",\n",
      "      \"DevOps implementation\",\n",
      "      \"deployment frequency\"\n",
      "    ],\n",
      "    \"business\": [\n",
      "      \"infrastructure costs\",\n",
      "      \"monthly recurring revenue\",\n",
      "      \"SaaS products\"\n",
      "    ]\n",
      "  },\n",
      "  \"language\": \"en\",\n",
      "  \"success\": true,\n",
      "  \"error\": null\n",
      "}\n"
     ]
    },
    {
     "data": {
      "text/plain": [
       "KeywordAnalysisResult(keywords=[KeywordInfo(keyword='cloud migration', score=0.6839999999999999, domain='technical', compound_parts=None), KeywordInfo(keyword='infrastructure costs', score=0.648, domain='business', compound_parts=None), KeywordInfo(keyword='DevOps implementation', score=0.612, domain='technical', compound_parts=None), KeywordInfo(keyword='deployment frequency', score=0.576, domain='technical', compound_parts=None), KeywordInfo(keyword='monthly recurring revenue', score=0.5399999999999999, domain='business', compound_parts=None), KeywordInfo(keyword='SaaS products', score=0.504, domain='business', compound_parts=None), KeywordInfo(keyword='department', score=0.48, domain=None, compound_parts=None), KeywordInfo(keyword='migration', score=0.48, domain=None, compound_parts=None), KeywordInfo(keyword='project', score=0.48, domain=None, compound_parts=None), KeywordInfo(keyword='reduce', score=0.48, domain=None, compound_parts=None)], compound_words=[], domain_keywords={'technical': ['cloud migration', 'DevOps implementation', 'deployment frequency'], 'business': ['infrastructure costs', 'monthly recurring revenue', 'SaaS products']}, language='en', success=True, error=None)"
      ]
     },
     "execution_count": 17,
     "metadata": {},
     "output_type": "execute_result"
    }
   ],
   "source": [
    "await debug_keyword_analysis(text)\n"
   ]
  },
  {
   "cell_type": "code",
   "execution_count": null,
   "metadata": {},
   "outputs": [],
   "source": [
    "# Or run full pipeline with debug info\n",
    "await debug_full_pipeline(text)\n"
   ]
  },
  {
   "cell_type": "markdown",
   "metadata": {},
   "source": [
    "### Batch Processing from Excel\n",
    "Process multiple texts from Excel file:\n"
   ]
  },
  {
   "cell_type": "code",
   "execution_count": null,
   "metadata": {},
   "outputs": [],
   "source": [
    "await analyze_excel_content(\n",
    "    input_file=\"test_content.xlsx\",  # Input Excel file path\n",
    "    output_file=\"analysis_results\",  # Output filename (without extension)\n",
    "    content_column=\"content\"         # Column containing text to analyze\n",
    ")\n"
   ]
  },
  {
   "cell_type": "markdown",
   "metadata": {},
   "source": [
    "## Parameters\n",
    "- Configure analyzers using parameter files\n",
    "- Control output detail with DebugOptions\n",
    "- Set logging level for verbosity control\n",
    "\n",
    "## Example Outputs\n",
    "The analysis provides:\n",
    "- Keywords with confidence scores\n",
    "- Theme identification and descriptions\n",
    "- Category classification with evidence\n",
    "- Confidence visualizations with Unicode bars\n",
    "\n",
    "## Notes\n",
    "- Set logging level to WARNING to minimize output\n",
    "- Use debug functions for detailed analysis inspection\n",
    "- Excel output combines all analysis types"
   ]
  }
 ],
 "metadata": {
  "kernelspec": {
   "display_name": "semantic-analyzer",
   "language": "python",
   "name": "python3"
  },
  "language_info": {
   "codemirror_mode": {
    "name": "ipython",
    "version": 3
   },
   "file_extension": ".py",
   "mimetype": "text/x-python",
   "name": "python",
   "nbconvert_exporter": "python",
   "pygments_lexer": "ipython3",
   "version": "3.9.20"
  }
 },
 "nbformat": 4,
 "nbformat_minor": 2
}
